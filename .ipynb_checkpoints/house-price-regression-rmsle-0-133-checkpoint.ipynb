{
 "cells": [
  {
   "cell_type": "markdown",
   "metadata": {},
   "source": [
    "# Project Summary\n",
    "This is an update from my previous work. In this notebook, I cleaned the features separately between the training & test data. The feature engineering focused on house features such as basement, garage, masonry veneer, pool, fireplace, etc. Using **Gradient Boosting Regressor**, I got RMSLE = 0.13317 and ranked in top 36% (by the time I wrote this). I did not blend my results from other kernels in this notebook.\n",
    "\n",
    "References:\n",
    "1. https://www.kaggle.com/pmarcelino/comprehensive-data-exploration-with-python\n",
    "2. https://www.kaggle.com/serigne/stacked-regressions-top-4-on-leaderboard\n",
    "etc.\n",
    "\n",
    "Contents:\n",
    "1. Feature Engineering\n",
    "2. ML Preprocessing\n",
    "3. Gradient Boosting Model Check\n",
    "4. Predictions & Submission\n"
   ]
  },
  {
   "cell_type": "code",
   "execution_count": 1,
   "metadata": {},
   "outputs": [],
   "source": [
    "import numpy as np\n",
    "import pandas as pd\n",
    "import matplotlib.pyplot as plt"
   ]
  },
  {
   "cell_type": "code",
   "execution_count": 2,
   "metadata": {},
   "outputs": [],
   "source": [
    "df = pd.read_csv('train.csv')\n",
    "df_new = pd.read_csv('test.csv')\n",
    "df = df.drop(columns='Id')\n",
    "df_new = df_new.drop(columns='Id')"
   ]
  },
  {
   "cell_type": "code",
   "execution_count": 3,
   "metadata": {},
   "outputs": [
    {
     "name": "stdout",
     "output_type": "stream",
     "text": [
      "<class 'pandas.core.frame.DataFrame'>\n",
      "RangeIndex: 1460 entries, 0 to 1459\n",
      "Data columns (total 80 columns):\n",
      " #   Column         Non-Null Count  Dtype  \n",
      "---  ------         --------------  -----  \n",
      " 0   MSSubClass     1460 non-null   int64  \n",
      " 1   MSZoning       1460 non-null   object \n",
      " 2   LotFrontage    1201 non-null   float64\n",
      " 3   LotArea        1460 non-null   int64  \n",
      " 4   Street         1460 non-null   object \n",
      " 5   Alley          91 non-null     object \n",
      " 6   LotShape       1460 non-null   object \n",
      " 7   LandContour    1460 non-null   object \n",
      " 8   Utilities      1460 non-null   object \n",
      " 9   LotConfig      1460 non-null   object \n",
      " 10  LandSlope      1460 non-null   object \n",
      " 11  Neighborhood   1460 non-null   object \n",
      " 12  Condition1     1460 non-null   object \n",
      " 13  Condition2     1460 non-null   object \n",
      " 14  BldgType       1460 non-null   object \n",
      " 15  HouseStyle     1460 non-null   object \n",
      " 16  OverallQual    1460 non-null   int64  \n",
      " 17  OverallCond    1460 non-null   int64  \n",
      " 18  YearBuilt      1460 non-null   int64  \n",
      " 19  YearRemodAdd   1460 non-null   int64  \n",
      " 20  RoofStyle      1460 non-null   object \n",
      " 21  RoofMatl       1460 non-null   object \n",
      " 22  Exterior1st    1460 non-null   object \n",
      " 23  Exterior2nd    1460 non-null   object \n",
      " 24  MasVnrType     1452 non-null   object \n",
      " 25  MasVnrArea     1452 non-null   float64\n",
      " 26  ExterQual      1460 non-null   object \n",
      " 27  ExterCond      1460 non-null   object \n",
      " 28  Foundation     1460 non-null   object \n",
      " 29  BsmtQual       1423 non-null   object \n",
      " 30  BsmtCond       1423 non-null   object \n",
      " 31  BsmtExposure   1422 non-null   object \n",
      " 32  BsmtFinType1   1423 non-null   object \n",
      " 33  BsmtFinSF1     1460 non-null   int64  \n",
      " 34  BsmtFinType2   1422 non-null   object \n",
      " 35  BsmtFinSF2     1460 non-null   int64  \n",
      " 36  BsmtUnfSF      1460 non-null   int64  \n",
      " 37  TotalBsmtSF    1460 non-null   int64  \n",
      " 38  Heating        1460 non-null   object \n",
      " 39  HeatingQC      1460 non-null   object \n",
      " 40  CentralAir     1460 non-null   object \n",
      " 41  Electrical     1459 non-null   object \n",
      " 42  1stFlrSF       1460 non-null   int64  \n",
      " 43  2ndFlrSF       1460 non-null   int64  \n",
      " 44  LowQualFinSF   1460 non-null   int64  \n",
      " 45  GrLivArea      1460 non-null   int64  \n",
      " 46  BsmtFullBath   1460 non-null   int64  \n",
      " 47  BsmtHalfBath   1460 non-null   int64  \n",
      " 48  FullBath       1460 non-null   int64  \n",
      " 49  HalfBath       1460 non-null   int64  \n",
      " 50  BedroomAbvGr   1460 non-null   int64  \n",
      " 51  KitchenAbvGr   1460 non-null   int64  \n",
      " 52  KitchenQual    1460 non-null   object \n",
      " 53  TotRmsAbvGrd   1460 non-null   int64  \n",
      " 54  Functional     1460 non-null   object \n",
      " 55  Fireplaces     1460 non-null   int64  \n",
      " 56  FireplaceQu    770 non-null    object \n",
      " 57  GarageType     1379 non-null   object \n",
      " 58  GarageYrBlt    1379 non-null   float64\n",
      " 59  GarageFinish   1379 non-null   object \n",
      " 60  GarageCars     1460 non-null   int64  \n",
      " 61  GarageArea     1460 non-null   int64  \n",
      " 62  GarageQual     1379 non-null   object \n",
      " 63  GarageCond     1379 non-null   object \n",
      " 64  PavedDrive     1460 non-null   object \n",
      " 65  WoodDeckSF     1460 non-null   int64  \n",
      " 66  OpenPorchSF    1460 non-null   int64  \n",
      " 67  EnclosedPorch  1460 non-null   int64  \n",
      " 68  3SsnPorch      1460 non-null   int64  \n",
      " 69  ScreenPorch    1460 non-null   int64  \n",
      " 70  PoolArea       1460 non-null   int64  \n",
      " 71  PoolQC         7 non-null      object \n",
      " 72  Fence          281 non-null    object \n",
      " 73  MiscFeature    54 non-null     object \n",
      " 74  MiscVal        1460 non-null   int64  \n",
      " 75  MoSold         1460 non-null   int64  \n",
      " 76  YrSold         1460 non-null   int64  \n",
      " 77  SaleType       1460 non-null   object \n",
      " 78  SaleCondition  1460 non-null   object \n",
      " 79  SalePrice      1460 non-null   int64  \n",
      "dtypes: float64(3), int64(34), object(43)\n",
      "memory usage: 912.6+ KB\n",
      "None\n",
      "<class 'pandas.core.frame.DataFrame'>\n",
      "RangeIndex: 1459 entries, 0 to 1458\n",
      "Data columns (total 79 columns):\n",
      " #   Column         Non-Null Count  Dtype  \n",
      "---  ------         --------------  -----  \n",
      " 0   MSSubClass     1459 non-null   int64  \n",
      " 1   MSZoning       1455 non-null   object \n",
      " 2   LotFrontage    1232 non-null   float64\n",
      " 3   LotArea        1459 non-null   int64  \n",
      " 4   Street         1459 non-null   object \n",
      " 5   Alley          107 non-null    object \n",
      " 6   LotShape       1459 non-null   object \n",
      " 7   LandContour    1459 non-null   object \n",
      " 8   Utilities      1457 non-null   object \n",
      " 9   LotConfig      1459 non-null   object \n",
      " 10  LandSlope      1459 non-null   object \n",
      " 11  Neighborhood   1459 non-null   object \n",
      " 12  Condition1     1459 non-null   object \n",
      " 13  Condition2     1459 non-null   object \n",
      " 14  BldgType       1459 non-null   object \n",
      " 15  HouseStyle     1459 non-null   object \n",
      " 16  OverallQual    1459 non-null   int64  \n",
      " 17  OverallCond    1459 non-null   int64  \n",
      " 18  YearBuilt      1459 non-null   int64  \n",
      " 19  YearRemodAdd   1459 non-null   int64  \n",
      " 20  RoofStyle      1459 non-null   object \n",
      " 21  RoofMatl       1459 non-null   object \n",
      " 22  Exterior1st    1458 non-null   object \n",
      " 23  Exterior2nd    1458 non-null   object \n",
      " 24  MasVnrType     1443 non-null   object \n",
      " 25  MasVnrArea     1444 non-null   float64\n",
      " 26  ExterQual      1459 non-null   object \n",
      " 27  ExterCond      1459 non-null   object \n",
      " 28  Foundation     1459 non-null   object \n",
      " 29  BsmtQual       1415 non-null   object \n",
      " 30  BsmtCond       1414 non-null   object \n",
      " 31  BsmtExposure   1415 non-null   object \n",
      " 32  BsmtFinType1   1417 non-null   object \n",
      " 33  BsmtFinSF1     1458 non-null   float64\n",
      " 34  BsmtFinType2   1417 non-null   object \n",
      " 35  BsmtFinSF2     1458 non-null   float64\n",
      " 36  BsmtUnfSF      1458 non-null   float64\n",
      " 37  TotalBsmtSF    1458 non-null   float64\n",
      " 38  Heating        1459 non-null   object \n",
      " 39  HeatingQC      1459 non-null   object \n",
      " 40  CentralAir     1459 non-null   object \n",
      " 41  Electrical     1459 non-null   object \n",
      " 42  1stFlrSF       1459 non-null   int64  \n",
      " 43  2ndFlrSF       1459 non-null   int64  \n",
      " 44  LowQualFinSF   1459 non-null   int64  \n",
      " 45  GrLivArea      1459 non-null   int64  \n",
      " 46  BsmtFullBath   1457 non-null   float64\n",
      " 47  BsmtHalfBath   1457 non-null   float64\n",
      " 48  FullBath       1459 non-null   int64  \n",
      " 49  HalfBath       1459 non-null   int64  \n",
      " 50  BedroomAbvGr   1459 non-null   int64  \n",
      " 51  KitchenAbvGr   1459 non-null   int64  \n",
      " 52  KitchenQual    1458 non-null   object \n",
      " 53  TotRmsAbvGrd   1459 non-null   int64  \n",
      " 54  Functional     1457 non-null   object \n",
      " 55  Fireplaces     1459 non-null   int64  \n",
      " 56  FireplaceQu    729 non-null    object \n",
      " 57  GarageType     1383 non-null   object \n",
      " 58  GarageYrBlt    1381 non-null   float64\n",
      " 59  GarageFinish   1381 non-null   object \n",
      " 60  GarageCars     1458 non-null   float64\n",
      " 61  GarageArea     1458 non-null   float64\n",
      " 62  GarageQual     1381 non-null   object \n",
      " 63  GarageCond     1381 non-null   object \n",
      " 64  PavedDrive     1459 non-null   object \n",
      " 65  WoodDeckSF     1459 non-null   int64  \n",
      " 66  OpenPorchSF    1459 non-null   int64  \n",
      " 67  EnclosedPorch  1459 non-null   int64  \n",
      " 68  3SsnPorch      1459 non-null   int64  \n",
      " 69  ScreenPorch    1459 non-null   int64  \n",
      " 70  PoolArea       1459 non-null   int64  \n",
      " 71  PoolQC         3 non-null      object \n",
      " 72  Fence          290 non-null    object \n",
      " 73  MiscFeature    51 non-null     object \n",
      " 74  MiscVal        1459 non-null   int64  \n",
      " 75  MoSold         1459 non-null   int64  \n",
      " 76  YrSold         1459 non-null   int64  \n",
      " 77  SaleType       1458 non-null   object \n",
      " 78  SaleCondition  1459 non-null   object \n",
      "dtypes: float64(11), int64(25), object(43)\n",
      "memory usage: 900.6+ KB\n",
      "\n",
      " None\n"
     ]
    }
   ],
   "source": [
    "print(df.info())\n",
    "print('\\n',df_new.info())"
   ]
  },
  {
   "cell_type": "markdown",
   "metadata": {},
   "source": [
    "As informed in data_description.txt, **'MSSubClass'** should be a categorical. I also experimented by categorizing **'YrSold'** since it has very few unique entries."
   ]
  },
  {
   "cell_type": "code",
   "execution_count": 4,
   "metadata": {},
   "outputs": [
    {
     "name": "stdout",
     "output_type": "stream",
     "text": [
      "MSSubClass Unique Values:\n",
      "[ 60  20  70  50 190  45  90 120  30  85  80 160  75 180  40]\n",
      "[ 20  60 120 160  80  30  50  90  85 190  45  70  75 180  40 150]\n",
      "\n",
      "YrSold Unique Values\n",
      "[2008 2007 2006 2009 2010]\n",
      "[2010 2009 2008 2007 2006]\n"
     ]
    }
   ],
   "source": [
    "print('MSSubClass Unique Values:')\n",
    "print(df.MSSubClass.unique())\n",
    "print(df_new.MSSubClass.unique())\n",
    "print('\\nYrSold Unique Values')\n",
    "print(df.YrSold.unique())\n",
    "print(df_new.YrSold.unique())"
   ]
  },
  {
   "cell_type": "code",
   "execution_count": 5,
   "metadata": {},
   "outputs": [],
   "source": [
    "df.MSSubClass = df.MSSubClass.astype(object)\n",
    "df_new.MSSubClass = df_new.MSSubClass.astype(object)\n",
    "\n",
    "df.YrSold = df.YrSold.astype(object)\n",
    "df_new.YrSold = df_new.YrSold.astype(object)"
   ]
  },
  {
   "cell_type": "markdown",
   "metadata": {},
   "source": [
    "# FEATURE ENGINEERING\n",
    "Feature checks are done separately between training & test data. This chapter mainly consists of **inspecting the null values in the data**.\n",
    "1. Basement Check\n",
    "2. Garage Check\n",
    "3. Pool Check\n",
    "4. Masonry Veneer Check\n",
    "5. Fireplace Check\n",
    "6. Other Features Check"
   ]
  },
  {
   "cell_type": "code",
   "execution_count": 6,
   "metadata": {},
   "outputs": [],
   "source": [
    "from sklearn.impute import SimpleImputer"
   ]
  },
  {
   "cell_type": "markdown",
   "metadata": {},
   "source": [
    "## CHECK BASEMENT\n",
    "### TRAINING DATA"
   ]
  },
  {
   "cell_type": "code",
   "execution_count": 7,
   "metadata": {},
   "outputs": [
    {
     "name": "stdout",
     "output_type": "stream",
     "text": [
      "  BsmtQual BsmtCond BsmtExposure BsmtFinType1  BsmtFinSF1 BsmtFinType2  \\\n",
      "0       Gd       TA           No          GLQ         706          Unf   \n",
      "1       Gd       TA           Gd          ALQ         978          Unf   \n",
      "2       Gd       TA           Mn          GLQ         486          Unf   \n",
      "3       TA       Gd           No          ALQ         216          Unf   \n",
      "4       Gd       TA           Av          GLQ         655          Unf   \n",
      "\n",
      "   BsmtFinSF2  BsmtUnfSF  TotalBsmtSF  BsmtFullBath  BsmtHalfBath  \n",
      "0           0        150          856             1             0  \n",
      "1           0        284         1262             0             1  \n",
      "2           0        434          920             1             0  \n",
      "3           0        540          756             1             0  \n",
      "4           0        490         1145             1             0  \n",
      "BsmtQual        37\n",
      "BsmtCond        37\n",
      "BsmtExposure    38\n",
      "BsmtFinType1    37\n",
      "BsmtFinSF1       0\n",
      "BsmtFinType2    38\n",
      "BsmtFinSF2       0\n",
      "BsmtUnfSF        0\n",
      "TotalBsmtSF      0\n",
      "BsmtFullBath     0\n",
      "BsmtHalfBath     0\n",
      "dtype: int64\n"
     ]
    }
   ],
   "source": [
    "bsmt_df = df[df.columns[df.columns.str.contains('Bsmt')]]\n",
    "print(bsmt_df.head())\n",
    "print(bsmt_df.isnull().sum())"
   ]
  },
  {
   "cell_type": "markdown",
   "metadata": {},
   "source": [
    "Separate houses with basements based on 'TotalBsmtSF' value:"
   ]
  },
  {
   "cell_type": "code",
   "execution_count": 8,
   "metadata": {},
   "outputs": [],
   "source": [
    "no_bsmt_df = bsmt_df[bsmt_df.TotalBsmtSF == 0]\n",
    "with_bsmt_df = bsmt_df[bsmt_df.TotalBsmtSF > 0]"
   ]
  },
  {
   "cell_type": "markdown",
   "metadata": {},
   "source": [
    "Impute with different strategies for houses with basement and houses without:"
   ]
  },
  {
   "cell_type": "code",
   "execution_count": 9,
   "metadata": {},
   "outputs": [
    {
     "name": "stdout",
     "output_type": "stream",
     "text": [
      "BsmtQual        0\n",
      "BsmtCond        0\n",
      "BsmtExposure    0\n",
      "BsmtFinType1    0\n",
      "BsmtFinType2    0\n",
      "BsmtFinSF1      0\n",
      "BsmtFinSF2      0\n",
      "BsmtUnfSF       0\n",
      "TotalBsmtSF     0\n",
      "BsmtFullBath    0\n",
      "BsmtHalfBath    0\n",
      "dtype: int64\n"
     ]
    }
   ],
   "source": [
    "# IMPUTE NO_BASEMENT!!\n",
    "cat_no_bsmt_df = no_bsmt_df.select_dtypes(object)\n",
    "num_no_bsmt_df = no_bsmt_df.select_dtypes(exclude=object)\n",
    "\n",
    "imp_no_bsmt_df = SimpleImputer(strategy='constant', fill_value='no basement')\n",
    "imp_zero = SimpleImputer(strategy='constant', fill_value=0)\n",
    "\n",
    "imp_no_bsmt_df.fit(cat_no_bsmt_df)\n",
    "imp_zero.fit(num_no_bsmt_df)\n",
    "\n",
    "cat_no_bsmt_df = pd.DataFrame(imp_no_bsmt_df.transform(cat_no_bsmt_df), index = cat_no_bsmt_df.index, columns = cat_no_bsmt_df.columns)\n",
    "num_no_bsmt_df = pd.DataFrame(imp_zero.transform(num_no_bsmt_df), index = num_no_bsmt_df.index, columns = num_no_bsmt_df.columns)\n",
    "\n",
    "no_bsmt_df = pd.concat([cat_no_bsmt_df, num_no_bsmt_df], axis=1)\n",
    "print(no_bsmt_df.isnull().sum())"
   ]
  },
  {
   "cell_type": "code",
   "execution_count": 10,
   "metadata": {},
   "outputs": [
    {
     "name": "stdout",
     "output_type": "stream",
     "text": [
      "BsmtQual        0\n",
      "BsmtCond        0\n",
      "BsmtExposure    0\n",
      "BsmtFinType1    0\n",
      "BsmtFinType2    0\n",
      "BsmtFinSF1      0\n",
      "BsmtFinSF2      0\n",
      "BsmtUnfSF       0\n",
      "TotalBsmtSF     0\n",
      "BsmtFullBath    0\n",
      "BsmtHalfBath    0\n",
      "dtype: int64\n"
     ]
    }
   ],
   "source": [
    "# IMPUTE WITH BASEMENTS!!\n",
    "cat_with_bsmt_df = with_bsmt_df.select_dtypes(object)\n",
    "num_with_bsmt_df = with_bsmt_df.select_dtypes(exclude=object)\n",
    "\n",
    "imp_freq = SimpleImputer(strategy='most_frequent')\n",
    "imp_mean = SimpleImputer(strategy='mean')\n",
    "\n",
    "imp_freq.fit(cat_with_bsmt_df)\n",
    "imp_mean.fit(num_with_bsmt_df)\n",
    "\n",
    "cat_with_bsmt_df = pd.DataFrame(imp_freq.transform(cat_with_bsmt_df), index=cat_with_bsmt_df.index, columns=cat_with_bsmt_df.columns)\n",
    "num_with_bsmt_df = pd.DataFrame(imp_mean.transform(num_with_bsmt_df), index=num_with_bsmt_df.index, columns=num_with_bsmt_df.columns)\n",
    "\n",
    "with_bsmt_df = pd.concat([cat_with_bsmt_df, num_with_bsmt_df], axis=1)\n",
    "print(with_bsmt_df.isnull().sum())"
   ]
  },
  {
   "cell_type": "markdown",
   "metadata": {},
   "source": [
    "Concatenate to bsmt_df:"
   ]
  },
  {
   "cell_type": "code",
   "execution_count": 11,
   "metadata": {},
   "outputs": [
    {
     "data": {
      "text/html": [
       "<div>\n",
       "<style scoped>\n",
       "    .dataframe tbody tr th:only-of-type {\n",
       "        vertical-align: middle;\n",
       "    }\n",
       "\n",
       "    .dataframe tbody tr th {\n",
       "        vertical-align: top;\n",
       "    }\n",
       "\n",
       "    .dataframe thead th {\n",
       "        text-align: right;\n",
       "    }\n",
       "</style>\n",
       "<table border=\"1\" class=\"dataframe\">\n",
       "  <thead>\n",
       "    <tr style=\"text-align: right;\">\n",
       "      <th></th>\n",
       "      <th>BsmtQual</th>\n",
       "      <th>BsmtCond</th>\n",
       "      <th>BsmtExposure</th>\n",
       "      <th>BsmtFinType1</th>\n",
       "      <th>BsmtFinType2</th>\n",
       "      <th>BsmtFinSF1</th>\n",
       "      <th>BsmtFinSF2</th>\n",
       "      <th>BsmtUnfSF</th>\n",
       "      <th>TotalBsmtSF</th>\n",
       "      <th>BsmtFullBath</th>\n",
       "      <th>BsmtHalfBath</th>\n",
       "    </tr>\n",
       "  </thead>\n",
       "  <tbody>\n",
       "    <tr>\n",
       "      <th>0</th>\n",
       "      <td>Gd</td>\n",
       "      <td>TA</td>\n",
       "      <td>No</td>\n",
       "      <td>GLQ</td>\n",
       "      <td>Unf</td>\n",
       "      <td>706.0</td>\n",
       "      <td>0.0</td>\n",
       "      <td>150.0</td>\n",
       "      <td>856.0</td>\n",
       "      <td>1.0</td>\n",
       "      <td>0.0</td>\n",
       "    </tr>\n",
       "    <tr>\n",
       "      <th>1</th>\n",
       "      <td>Gd</td>\n",
       "      <td>TA</td>\n",
       "      <td>Gd</td>\n",
       "      <td>ALQ</td>\n",
       "      <td>Unf</td>\n",
       "      <td>978.0</td>\n",
       "      <td>0.0</td>\n",
       "      <td>284.0</td>\n",
       "      <td>1262.0</td>\n",
       "      <td>0.0</td>\n",
       "      <td>1.0</td>\n",
       "    </tr>\n",
       "    <tr>\n",
       "      <th>2</th>\n",
       "      <td>Gd</td>\n",
       "      <td>TA</td>\n",
       "      <td>Mn</td>\n",
       "      <td>GLQ</td>\n",
       "      <td>Unf</td>\n",
       "      <td>486.0</td>\n",
       "      <td>0.0</td>\n",
       "      <td>434.0</td>\n",
       "      <td>920.0</td>\n",
       "      <td>1.0</td>\n",
       "      <td>0.0</td>\n",
       "    </tr>\n",
       "    <tr>\n",
       "      <th>3</th>\n",
       "      <td>TA</td>\n",
       "      <td>Gd</td>\n",
       "      <td>No</td>\n",
       "      <td>ALQ</td>\n",
       "      <td>Unf</td>\n",
       "      <td>216.0</td>\n",
       "      <td>0.0</td>\n",
       "      <td>540.0</td>\n",
       "      <td>756.0</td>\n",
       "      <td>1.0</td>\n",
       "      <td>0.0</td>\n",
       "    </tr>\n",
       "    <tr>\n",
       "      <th>4</th>\n",
       "      <td>Gd</td>\n",
       "      <td>TA</td>\n",
       "      <td>Av</td>\n",
       "      <td>GLQ</td>\n",
       "      <td>Unf</td>\n",
       "      <td>655.0</td>\n",
       "      <td>0.0</td>\n",
       "      <td>490.0</td>\n",
       "      <td>1145.0</td>\n",
       "      <td>1.0</td>\n",
       "      <td>0.0</td>\n",
       "    </tr>\n",
       "  </tbody>\n",
       "</table>\n",
       "</div>"
      ],
      "text/plain": [
       "  BsmtQual BsmtCond BsmtExposure BsmtFinType1 BsmtFinType2  BsmtFinSF1  \\\n",
       "0       Gd       TA           No          GLQ          Unf       706.0   \n",
       "1       Gd       TA           Gd          ALQ          Unf       978.0   \n",
       "2       Gd       TA           Mn          GLQ          Unf       486.0   \n",
       "3       TA       Gd           No          ALQ          Unf       216.0   \n",
       "4       Gd       TA           Av          GLQ          Unf       655.0   \n",
       "\n",
       "   BsmtFinSF2  BsmtUnfSF  TotalBsmtSF  BsmtFullBath  BsmtHalfBath  \n",
       "0         0.0      150.0        856.0           1.0           0.0  \n",
       "1         0.0      284.0       1262.0           0.0           1.0  \n",
       "2         0.0      434.0        920.0           1.0           0.0  \n",
       "3         0.0      540.0        756.0           1.0           0.0  \n",
       "4         0.0      490.0       1145.0           1.0           0.0  "
      ]
     },
     "execution_count": 11,
     "metadata": {},
     "output_type": "execute_result"
    }
   ],
   "source": [
    "bsmt_df = pd.concat([with_bsmt_df, no_bsmt_df])\n",
    "bsmt_df.sort_index(inplace=True)\n",
    "bsmt_df.head()"
   ]
  },
  {
   "cell_type": "markdown",
   "metadata": {},
   "source": [
    "## TEST DATA"
   ]
  },
  {
   "cell_type": "code",
   "execution_count": 12,
   "metadata": {},
   "outputs": [
    {
     "name": "stdout",
     "output_type": "stream",
     "text": [
      "  BsmtQual BsmtCond BsmtExposure BsmtFinType1  BsmtFinSF1 BsmtFinType2  \\\n",
      "0       TA       TA           No          Rec       468.0          LwQ   \n",
      "1       TA       TA           No          ALQ       923.0          Unf   \n",
      "2       Gd       TA           No          GLQ       791.0          Unf   \n",
      "3       TA       TA           No          GLQ       602.0          Unf   \n",
      "4       Gd       TA           No          ALQ       263.0          Unf   \n",
      "\n",
      "   BsmtFinSF2  BsmtUnfSF  TotalBsmtSF  BsmtFullBath  BsmtHalfBath  \n",
      "0       144.0      270.0        882.0           0.0           0.0  \n",
      "1         0.0      406.0       1329.0           0.0           0.0  \n",
      "2         0.0      137.0        928.0           0.0           0.0  \n",
      "3         0.0      324.0        926.0           0.0           0.0  \n",
      "4         0.0     1017.0       1280.0           0.0           0.0  \n",
      "BsmtQual        44\n",
      "BsmtCond        45\n",
      "BsmtExposure    44\n",
      "BsmtFinType1    42\n",
      "BsmtFinSF1       1\n",
      "BsmtFinType2    42\n",
      "BsmtFinSF2       1\n",
      "BsmtUnfSF        1\n",
      "TotalBsmtSF      1\n",
      "BsmtFullBath     2\n",
      "BsmtHalfBath     2\n",
      "dtype: int64\n"
     ]
    }
   ],
   "source": [
    "bsmt_df_new = df_new[df_new.columns[df_new.columns.str.contains('Bsmt')]]\n",
    "print(bsmt_df_new.head())\n",
    "print(bsmt_df_new.isnull().sum())"
   ]
  },
  {
   "cell_type": "code",
   "execution_count": 13,
   "metadata": {},
   "outputs": [],
   "source": [
    "no_bsmt_df_new = bsmt_df_new[(bsmt_df_new.TotalBsmtSF == 0) | (bsmt_df_new.TotalBsmtSF.isnull() == True)]\n",
    "with_bsmt_df_new = bsmt_df_new[bsmt_df_new.TotalBsmtSF > 0]"
   ]
  },
  {
   "cell_type": "code",
   "execution_count": 14,
   "metadata": {},
   "outputs": [
    {
     "name": "stdout",
     "output_type": "stream",
     "text": [
      "BsmtQual        0\n",
      "BsmtCond        0\n",
      "BsmtExposure    0\n",
      "BsmtFinType1    0\n",
      "BsmtFinType2    0\n",
      "BsmtFinSF1      0\n",
      "BsmtFinSF2      0\n",
      "BsmtUnfSF       0\n",
      "TotalBsmtSF     0\n",
      "BsmtFullBath    0\n",
      "BsmtHalfBath    0\n",
      "dtype: int64\n"
     ]
    }
   ],
   "source": [
    "# IMPUTE NO_BASEMENT!!\n",
    "cat_no_bsmt_df_new = no_bsmt_df_new.select_dtypes(object)\n",
    "num_no_bsmt_df_new = no_bsmt_df_new.select_dtypes(exclude=object)\n",
    "\n",
    "imp_no_bsmt_df_new = SimpleImputer(strategy='constant', fill_value='no basement')\n",
    "imp_zero = SimpleImputer(strategy='constant', fill_value=0)\n",
    "\n",
    "imp_no_bsmt_df_new.fit(cat_no_bsmt_df_new)\n",
    "imp_zero.fit(num_no_bsmt_df_new)\n",
    "\n",
    "cat_no_bsmt_df_new = pd.DataFrame(imp_no_bsmt_df_new.transform(cat_no_bsmt_df_new), index = cat_no_bsmt_df_new.index, columns = cat_no_bsmt_df_new.columns)\n",
    "num_no_bsmt_df_new = pd.DataFrame(imp_zero.transform(num_no_bsmt_df_new), index = num_no_bsmt_df_new.index, columns = num_no_bsmt_df_new.columns)\n",
    "\n",
    "no_bsmt_df_new = pd.concat([cat_no_bsmt_df_new, num_no_bsmt_df_new], axis=1)\n",
    "print(no_bsmt_df_new.isnull().sum())"
   ]
  },
  {
   "cell_type": "code",
   "execution_count": 15,
   "metadata": {},
   "outputs": [
    {
     "name": "stdout",
     "output_type": "stream",
     "text": [
      "BsmtQual        0\n",
      "BsmtCond        0\n",
      "BsmtExposure    0\n",
      "BsmtFinType1    0\n",
      "BsmtFinType2    0\n",
      "BsmtFinSF1      0\n",
      "BsmtFinSF2      0\n",
      "BsmtUnfSF       0\n",
      "TotalBsmtSF     0\n",
      "BsmtFullBath    0\n",
      "BsmtHalfBath    0\n",
      "dtype: int64\n"
     ]
    }
   ],
   "source": [
    "# IMPUTE WITH BASEMENTS!!\n",
    "cat_with_bsmt_df_new = with_bsmt_df_new.select_dtypes(object)\n",
    "num_with_bsmt_df_new = with_bsmt_df_new.select_dtypes(exclude=object)\n",
    "\n",
    "imp_freq = SimpleImputer(strategy='most_frequent')\n",
    "imp_mean = SimpleImputer(strategy='mean')\n",
    "\n",
    "imp_freq.fit(cat_with_bsmt_df_new)\n",
    "imp_mean.fit(num_with_bsmt_df_new)\n",
    "\n",
    "cat_with_bsmt_df_new = pd.DataFrame(imp_freq.transform(cat_with_bsmt_df_new), index=cat_with_bsmt_df_new.index, columns=cat_with_bsmt_df_new.columns)\n",
    "num_with_bsmt_df_new = pd.DataFrame(imp_mean.transform(num_with_bsmt_df_new), index=num_with_bsmt_df_new.index, columns=num_with_bsmt_df_new.columns)\n",
    "\n",
    "with_bsmt_df_new = pd.concat([cat_with_bsmt_df_new, num_with_bsmt_df_new], axis=1)\n",
    "print(with_bsmt_df_new.isnull().sum())"
   ]
  },
  {
   "cell_type": "code",
   "execution_count": 16,
   "metadata": {},
   "outputs": [
    {
     "data": {
      "text/html": [
       "<div>\n",
       "<style scoped>\n",
       "    .dataframe tbody tr th:only-of-type {\n",
       "        vertical-align: middle;\n",
       "    }\n",
       "\n",
       "    .dataframe tbody tr th {\n",
       "        vertical-align: top;\n",
       "    }\n",
       "\n",
       "    .dataframe thead th {\n",
       "        text-align: right;\n",
       "    }\n",
       "</style>\n",
       "<table border=\"1\" class=\"dataframe\">\n",
       "  <thead>\n",
       "    <tr style=\"text-align: right;\">\n",
       "      <th></th>\n",
       "      <th>BsmtQual</th>\n",
       "      <th>BsmtCond</th>\n",
       "      <th>BsmtExposure</th>\n",
       "      <th>BsmtFinType1</th>\n",
       "      <th>BsmtFinType2</th>\n",
       "      <th>BsmtFinSF1</th>\n",
       "      <th>BsmtFinSF2</th>\n",
       "      <th>BsmtUnfSF</th>\n",
       "      <th>TotalBsmtSF</th>\n",
       "      <th>BsmtFullBath</th>\n",
       "      <th>BsmtHalfBath</th>\n",
       "    </tr>\n",
       "  </thead>\n",
       "  <tbody>\n",
       "    <tr>\n",
       "      <th>0</th>\n",
       "      <td>TA</td>\n",
       "      <td>TA</td>\n",
       "      <td>No</td>\n",
       "      <td>Rec</td>\n",
       "      <td>LwQ</td>\n",
       "      <td>468.0</td>\n",
       "      <td>144.0</td>\n",
       "      <td>270.0</td>\n",
       "      <td>882.0</td>\n",
       "      <td>0.0</td>\n",
       "      <td>0.0</td>\n",
       "    </tr>\n",
       "    <tr>\n",
       "      <th>1</th>\n",
       "      <td>TA</td>\n",
       "      <td>TA</td>\n",
       "      <td>No</td>\n",
       "      <td>ALQ</td>\n",
       "      <td>Unf</td>\n",
       "      <td>923.0</td>\n",
       "      <td>0.0</td>\n",
       "      <td>406.0</td>\n",
       "      <td>1329.0</td>\n",
       "      <td>0.0</td>\n",
       "      <td>0.0</td>\n",
       "    </tr>\n",
       "    <tr>\n",
       "      <th>2</th>\n",
       "      <td>Gd</td>\n",
       "      <td>TA</td>\n",
       "      <td>No</td>\n",
       "      <td>GLQ</td>\n",
       "      <td>Unf</td>\n",
       "      <td>791.0</td>\n",
       "      <td>0.0</td>\n",
       "      <td>137.0</td>\n",
       "      <td>928.0</td>\n",
       "      <td>0.0</td>\n",
       "      <td>0.0</td>\n",
       "    </tr>\n",
       "    <tr>\n",
       "      <th>3</th>\n",
       "      <td>TA</td>\n",
       "      <td>TA</td>\n",
       "      <td>No</td>\n",
       "      <td>GLQ</td>\n",
       "      <td>Unf</td>\n",
       "      <td>602.0</td>\n",
       "      <td>0.0</td>\n",
       "      <td>324.0</td>\n",
       "      <td>926.0</td>\n",
       "      <td>0.0</td>\n",
       "      <td>0.0</td>\n",
       "    </tr>\n",
       "    <tr>\n",
       "      <th>4</th>\n",
       "      <td>Gd</td>\n",
       "      <td>TA</td>\n",
       "      <td>No</td>\n",
       "      <td>ALQ</td>\n",
       "      <td>Unf</td>\n",
       "      <td>263.0</td>\n",
       "      <td>0.0</td>\n",
       "      <td>1017.0</td>\n",
       "      <td>1280.0</td>\n",
       "      <td>0.0</td>\n",
       "      <td>0.0</td>\n",
       "    </tr>\n",
       "  </tbody>\n",
       "</table>\n",
       "</div>"
      ],
      "text/plain": [
       "  BsmtQual BsmtCond BsmtExposure BsmtFinType1 BsmtFinType2  BsmtFinSF1  \\\n",
       "0       TA       TA           No          Rec          LwQ       468.0   \n",
       "1       TA       TA           No          ALQ          Unf       923.0   \n",
       "2       Gd       TA           No          GLQ          Unf       791.0   \n",
       "3       TA       TA           No          GLQ          Unf       602.0   \n",
       "4       Gd       TA           No          ALQ          Unf       263.0   \n",
       "\n",
       "   BsmtFinSF2  BsmtUnfSF  TotalBsmtSF  BsmtFullBath  BsmtHalfBath  \n",
       "0       144.0      270.0        882.0           0.0           0.0  \n",
       "1         0.0      406.0       1329.0           0.0           0.0  \n",
       "2         0.0      137.0        928.0           0.0           0.0  \n",
       "3         0.0      324.0        926.0           0.0           0.0  \n",
       "4         0.0     1017.0       1280.0           0.0           0.0  "
      ]
     },
     "execution_count": 16,
     "metadata": {},
     "output_type": "execute_result"
    }
   ],
   "source": [
    "bsmt_df_new = pd.concat([with_bsmt_df_new, no_bsmt_df_new])\n",
    "bsmt_df_new.sort_index(inplace=True)\n",
    "bsmt_df_new.head()"
   ]
  },
  {
   "cell_type": "markdown",
   "metadata": {},
   "source": [
    "## CHECK GARAGE"
   ]
  },
  {
   "cell_type": "markdown",
   "metadata": {},
   "source": [
    "### TRAINING DATA"
   ]
  },
  {
   "cell_type": "code",
   "execution_count": 17,
   "metadata": {},
   "outputs": [
    {
     "name": "stdout",
     "output_type": "stream",
     "text": [
      "  GarageType  GarageYrBlt GarageFinish  GarageCars  GarageArea GarageQual  \\\n",
      "0     Attchd       2003.0          RFn           2         548         TA   \n",
      "1     Attchd       1976.0          RFn           2         460         TA   \n",
      "2     Attchd       2001.0          RFn           2         608         TA   \n",
      "3     Detchd       1998.0          Unf           3         642         TA   \n",
      "4     Attchd       2000.0          RFn           3         836         TA   \n",
      "\n",
      "  GarageCond  \n",
      "0         TA  \n",
      "1         TA  \n",
      "2         TA  \n",
      "3         TA  \n",
      "4         TA  \n",
      "GarageType      81\n",
      "GarageYrBlt     81\n",
      "GarageFinish    81\n",
      "GarageCars       0\n",
      "GarageArea       0\n",
      "GarageQual      81\n",
      "GarageCond      81\n",
      "dtype: int64\n"
     ]
    }
   ],
   "source": [
    "garage_df = df[df.columns[df.columns.str.contains('Garage')]]\n",
    "print(garage_df.head())\n",
    "print(garage_df.isnull().sum())"
   ]
  },
  {
   "cell_type": "markdown",
   "metadata": {},
   "source": [
    "Separate houses with garage & without:"
   ]
  },
  {
   "cell_type": "code",
   "execution_count": 18,
   "metadata": {},
   "outputs": [
    {
     "name": "stdout",
     "output_type": "stream",
     "text": [
      "GarageType      81\n",
      "GarageYrBlt     81\n",
      "GarageFinish    81\n",
      "GarageCars       0\n",
      "GarageArea       0\n",
      "GarageQual      81\n",
      "GarageCond      81\n",
      "dtype: int64\n",
      "\n",
      "\n",
      "GarageType      0\n",
      "GarageYrBlt     0\n",
      "GarageFinish    0\n",
      "GarageCars      0\n",
      "GarageArea      0\n",
      "GarageQual      0\n",
      "GarageCond      0\n",
      "dtype: int64\n"
     ]
    }
   ],
   "source": [
    "no_garage_df = garage_df[(garage_df.GarageArea == 0)]\n",
    "print(no_garage_df.isnull().sum())\n",
    "with_garage_df = garage_df[(garage_df.GarageArea > 0)]\n",
    "print('\\n')\n",
    "print(with_garage_df.isnull().sum())"
   ]
  },
  {
   "cell_type": "markdown",
   "metadata": {},
   "source": [
    "There are no missing values for houses with garage therefore we only impute the houses with no garage:"
   ]
  },
  {
   "cell_type": "code",
   "execution_count": 19,
   "metadata": {},
   "outputs": [
    {
     "name": "stdout",
     "output_type": "stream",
     "text": [
      "GarageType      0\n",
      "GarageFinish    0\n",
      "GarageQual      0\n",
      "GarageCond      0\n",
      "GarageYrBlt     0\n",
      "GarageCars      0\n",
      "GarageArea      0\n",
      "dtype: int64\n"
     ]
    }
   ],
   "source": [
    "# IMPUTE NO_GARAGE!!\n",
    "cat_no_garage_df = no_garage_df.select_dtypes(object)\n",
    "num_no_garage_df = no_garage_df.select_dtypes(exclude=object)\n",
    "\n",
    "imp_no_garage_df = SimpleImputer(strategy='constant', fill_value='no basement')\n",
    "imp_zero = SimpleImputer(strategy='constant', fill_value=0)\n",
    "\n",
    "imp_no_garage_df.fit(cat_no_garage_df)\n",
    "imp_zero.fit(num_no_garage_df)\n",
    "\n",
    "cat_no_garage_df = pd.DataFrame(imp_no_garage_df.transform(cat_no_garage_df), index = cat_no_garage_df.index, columns = cat_no_garage_df.columns)\n",
    "num_no_garage_df = pd.DataFrame(imp_zero.transform(num_no_garage_df), index = num_no_garage_df.index, columns = num_no_garage_df.columns)\n",
    "\n",
    "no_garage_df = pd.concat([cat_no_garage_df, num_no_garage_df], axis=1)\n",
    "print(no_garage_df.isnull().sum())"
   ]
  },
  {
   "cell_type": "code",
   "execution_count": 20,
   "metadata": {},
   "outputs": [
    {
     "data": {
      "text/html": [
       "<div>\n",
       "<style scoped>\n",
       "    .dataframe tbody tr th:only-of-type {\n",
       "        vertical-align: middle;\n",
       "    }\n",
       "\n",
       "    .dataframe tbody tr th {\n",
       "        vertical-align: top;\n",
       "    }\n",
       "\n",
       "    .dataframe thead th {\n",
       "        text-align: right;\n",
       "    }\n",
       "</style>\n",
       "<table border=\"1\" class=\"dataframe\">\n",
       "  <thead>\n",
       "    <tr style=\"text-align: right;\">\n",
       "      <th></th>\n",
       "      <th>GarageType</th>\n",
       "      <th>GarageFinish</th>\n",
       "      <th>GarageQual</th>\n",
       "      <th>GarageCond</th>\n",
       "      <th>GarageYrBlt</th>\n",
       "      <th>GarageCars</th>\n",
       "      <th>GarageArea</th>\n",
       "    </tr>\n",
       "  </thead>\n",
       "  <tbody>\n",
       "    <tr>\n",
       "      <th>0</th>\n",
       "      <td>Attchd</td>\n",
       "      <td>RFn</td>\n",
       "      <td>TA</td>\n",
       "      <td>TA</td>\n",
       "      <td>2003.0</td>\n",
       "      <td>2.0</td>\n",
       "      <td>548.0</td>\n",
       "    </tr>\n",
       "    <tr>\n",
       "      <th>1</th>\n",
       "      <td>Attchd</td>\n",
       "      <td>RFn</td>\n",
       "      <td>TA</td>\n",
       "      <td>TA</td>\n",
       "      <td>1976.0</td>\n",
       "      <td>2.0</td>\n",
       "      <td>460.0</td>\n",
       "    </tr>\n",
       "    <tr>\n",
       "      <th>2</th>\n",
       "      <td>Attchd</td>\n",
       "      <td>RFn</td>\n",
       "      <td>TA</td>\n",
       "      <td>TA</td>\n",
       "      <td>2001.0</td>\n",
       "      <td>2.0</td>\n",
       "      <td>608.0</td>\n",
       "    </tr>\n",
       "    <tr>\n",
       "      <th>3</th>\n",
       "      <td>Detchd</td>\n",
       "      <td>Unf</td>\n",
       "      <td>TA</td>\n",
       "      <td>TA</td>\n",
       "      <td>1998.0</td>\n",
       "      <td>3.0</td>\n",
       "      <td>642.0</td>\n",
       "    </tr>\n",
       "    <tr>\n",
       "      <th>4</th>\n",
       "      <td>Attchd</td>\n",
       "      <td>RFn</td>\n",
       "      <td>TA</td>\n",
       "      <td>TA</td>\n",
       "      <td>2000.0</td>\n",
       "      <td>3.0</td>\n",
       "      <td>836.0</td>\n",
       "    </tr>\n",
       "  </tbody>\n",
       "</table>\n",
       "</div>"
      ],
      "text/plain": [
       "  GarageType GarageFinish GarageQual GarageCond  GarageYrBlt  GarageCars  \\\n",
       "0     Attchd          RFn         TA         TA       2003.0         2.0   \n",
       "1     Attchd          RFn         TA         TA       1976.0         2.0   \n",
       "2     Attchd          RFn         TA         TA       2001.0         2.0   \n",
       "3     Detchd          Unf         TA         TA       1998.0         3.0   \n",
       "4     Attchd          RFn         TA         TA       2000.0         3.0   \n",
       "\n",
       "   GarageArea  \n",
       "0       548.0  \n",
       "1       460.0  \n",
       "2       608.0  \n",
       "3       642.0  \n",
       "4       836.0  "
      ]
     },
     "execution_count": 20,
     "metadata": {},
     "output_type": "execute_result"
    }
   ],
   "source": [
    "garage_df = pd.concat([no_garage_df, with_garage_df])\n",
    "garage_df.sort_index(inplace=True)\n",
    "garage_df.head()"
   ]
  },
  {
   "cell_type": "markdown",
   "metadata": {},
   "source": [
    "## TEST DATA"
   ]
  },
  {
   "cell_type": "code",
   "execution_count": 21,
   "metadata": {},
   "outputs": [
    {
     "name": "stdout",
     "output_type": "stream",
     "text": [
      "  GarageType  GarageYrBlt GarageFinish  GarageCars  GarageArea GarageQual  \\\n",
      "0     Attchd       1961.0          Unf         1.0       730.0         TA   \n",
      "1     Attchd       1958.0          Unf         1.0       312.0         TA   \n",
      "2     Attchd       1997.0          Fin         2.0       482.0         TA   \n",
      "3     Attchd       1998.0          Fin         2.0       470.0         TA   \n",
      "4     Attchd       1992.0          RFn         2.0       506.0         TA   \n",
      "\n",
      "  GarageCond  \n",
      "0         TA  \n",
      "1         TA  \n",
      "2         TA  \n",
      "3         TA  \n",
      "4         TA  \n",
      "GarageType      76\n",
      "GarageYrBlt     78\n",
      "GarageFinish    78\n",
      "GarageCars       1\n",
      "GarageArea       1\n",
      "GarageQual      78\n",
      "GarageCond      78\n",
      "dtype: int64\n"
     ]
    }
   ],
   "source": [
    "garage_df_new = df_new[df_new.columns[df_new.columns.str.contains('Garage')]]\n",
    "print(garage_df_new.head())\n",
    "print(garage_df_new.isnull().sum())"
   ]
  },
  {
   "cell_type": "code",
   "execution_count": 22,
   "metadata": {},
   "outputs": [
    {
     "name": "stdout",
     "output_type": "stream",
     "text": [
      "GarageType      76\n",
      "GarageYrBlt     77\n",
      "GarageFinish    77\n",
      "GarageCars       1\n",
      "GarageArea       1\n",
      "GarageQual      77\n",
      "GarageCond      77\n",
      "dtype: int64\n",
      "\n",
      "\n",
      "GarageType      0\n",
      "GarageYrBlt     1\n",
      "GarageFinish    1\n",
      "GarageCars      0\n",
      "GarageArea      0\n",
      "GarageQual      1\n",
      "GarageCond      1\n",
      "dtype: int64\n"
     ]
    }
   ],
   "source": [
    "no_garage_df_new = garage_df_new[(garage_df_new.GarageArea == 0) | (garage_df_new.GarageArea.isnull())]\n",
    "print(no_garage_df_new.isnull().sum())\n",
    "with_garage_df_new = garage_df_new[(garage_df_new.GarageArea > 0)]\n",
    "print('\\n')\n",
    "print(with_garage_df_new.isnull().sum())"
   ]
  },
  {
   "cell_type": "code",
   "execution_count": 23,
   "metadata": {},
   "outputs": [
    {
     "name": "stderr",
     "output_type": "stream",
     "text": [
      "c:\\python\\python38\\lib\\site-packages\\pandas\\core\\indexing.py:1720: SettingWithCopyWarning: \n",
      "A value is trying to be set on a copy of a slice from a DataFrame.\n",
      "Try using .loc[row_indexer,col_indexer] = value instead\n",
      "\n",
      "See the caveats in the documentation: https://pandas.pydata.org/pandas-docs/stable/user_guide/indexing.html#returning-a-view-versus-a-copy\n",
      "  self._setitem_single_column(loc, value, pi)\n"
     ]
    },
    {
     "data": {
      "text/plain": [
       "GarageType      NaN\n",
       "GarageYrBlt     NaN\n",
       "GarageFinish    NaN\n",
       "GarageCars      NaN\n",
       "GarageArea      NaN\n",
       "GarageQual      NaN\n",
       "GarageCond      NaN\n",
       "Name: 1116, dtype: object"
      ]
     },
     "execution_count": 23,
     "metadata": {},
     "output_type": "execute_result"
    }
   ],
   "source": [
    "garage_df_new.loc[1116, 'GarageType'] = np.nan\n",
    "garage_df_new.loc[1116]"
   ]
  },
  {
   "cell_type": "code",
   "execution_count": 24,
   "metadata": {},
   "outputs": [
    {
     "name": "stdout",
     "output_type": "stream",
     "text": [
      "GarageType      0\n",
      "GarageFinish    0\n",
      "GarageQual      0\n",
      "GarageCond      0\n",
      "GarageYrBlt     0\n",
      "GarageCars      0\n",
      "GarageArea      0\n",
      "dtype: int64\n"
     ]
    }
   ],
   "source": [
    "# IMPUTE NO_GARAGE!!\n",
    "cat_no_garage_df_new = no_garage_df_new.select_dtypes(object)\n",
    "num_no_garage_df_new = no_garage_df_new.select_dtypes(exclude=object)\n",
    "\n",
    "imp_no_garage_df_new = SimpleImputer(strategy='constant', fill_value='no basement')\n",
    "imp_zero = SimpleImputer(strategy='constant', fill_value=0)\n",
    "\n",
    "imp_no_garage_df_new.fit(cat_no_garage_df_new)\n",
    "imp_zero.fit(num_no_garage_df_new)\n",
    "\n",
    "cat_no_garage_df_new = pd.DataFrame(imp_no_garage_df_new.transform(cat_no_garage_df_new), index = cat_no_garage_df_new.index, columns = cat_no_garage_df_new.columns)\n",
    "num_no_garage_df_new = pd.DataFrame(imp_zero.transform(num_no_garage_df_new), index = num_no_garage_df_new.index, columns = num_no_garage_df_new.columns)\n",
    "\n",
    "no_garage_df_new = pd.concat([cat_no_garage_df_new, num_no_garage_df_new], axis=1)\n",
    "print(no_garage_df_new.isnull().sum())"
   ]
  },
  {
   "cell_type": "code",
   "execution_count": 25,
   "metadata": {},
   "outputs": [
    {
     "name": "stdout",
     "output_type": "stream",
     "text": [
      "GarageType      0\n",
      "GarageFinish    0\n",
      "GarageQual      0\n",
      "GarageCond      0\n",
      "GarageYrBlt     0\n",
      "GarageCars      0\n",
      "GarageArea      0\n",
      "dtype: int64\n"
     ]
    }
   ],
   "source": [
    "# IMPUTE WITH GARAGE!!\n",
    "cat_with_garage_df_new = with_garage_df_new.select_dtypes(object)\n",
    "num_with_garage_df_new = with_garage_df_new.select_dtypes(exclude=object)\n",
    "\n",
    "imp_freq = SimpleImputer(strategy='most_frequent')\n",
    "imp_mean = SimpleImputer(strategy='mean')\n",
    "\n",
    "imp_freq.fit(cat_with_garage_df_new)\n",
    "imp_mean.fit(num_with_garage_df_new)\n",
    "\n",
    "cat_with_garage_df_new = pd.DataFrame(imp_freq.transform(cat_with_garage_df_new), index=cat_with_garage_df_new.index, columns=cat_with_garage_df_new.columns)\n",
    "num_with_garage_df_new = pd.DataFrame(imp_mean.transform(num_with_garage_df_new), index=num_with_garage_df_new.index, columns=num_with_garage_df_new.columns)\n",
    "\n",
    "with_garage_df_new = pd.concat([cat_with_garage_df_new, num_with_garage_df_new], axis=1)\n",
    "print(with_garage_df_new.isnull().sum())"
   ]
  },
  {
   "cell_type": "code",
   "execution_count": 26,
   "metadata": {},
   "outputs": [
    {
     "data": {
      "text/html": [
       "<div>\n",
       "<style scoped>\n",
       "    .dataframe tbody tr th:only-of-type {\n",
       "        vertical-align: middle;\n",
       "    }\n",
       "\n",
       "    .dataframe tbody tr th {\n",
       "        vertical-align: top;\n",
       "    }\n",
       "\n",
       "    .dataframe thead th {\n",
       "        text-align: right;\n",
       "    }\n",
       "</style>\n",
       "<table border=\"1\" class=\"dataframe\">\n",
       "  <thead>\n",
       "    <tr style=\"text-align: right;\">\n",
       "      <th></th>\n",
       "      <th>GarageType</th>\n",
       "      <th>GarageFinish</th>\n",
       "      <th>GarageQual</th>\n",
       "      <th>GarageCond</th>\n",
       "      <th>GarageYrBlt</th>\n",
       "      <th>GarageCars</th>\n",
       "      <th>GarageArea</th>\n",
       "    </tr>\n",
       "  </thead>\n",
       "  <tbody>\n",
       "    <tr>\n",
       "      <th>0</th>\n",
       "      <td>Attchd</td>\n",
       "      <td>Unf</td>\n",
       "      <td>TA</td>\n",
       "      <td>TA</td>\n",
       "      <td>1961.0</td>\n",
       "      <td>1.0</td>\n",
       "      <td>730.0</td>\n",
       "    </tr>\n",
       "    <tr>\n",
       "      <th>1</th>\n",
       "      <td>Attchd</td>\n",
       "      <td>Unf</td>\n",
       "      <td>TA</td>\n",
       "      <td>TA</td>\n",
       "      <td>1958.0</td>\n",
       "      <td>1.0</td>\n",
       "      <td>312.0</td>\n",
       "    </tr>\n",
       "    <tr>\n",
       "      <th>2</th>\n",
       "      <td>Attchd</td>\n",
       "      <td>Fin</td>\n",
       "      <td>TA</td>\n",
       "      <td>TA</td>\n",
       "      <td>1997.0</td>\n",
       "      <td>2.0</td>\n",
       "      <td>482.0</td>\n",
       "    </tr>\n",
       "    <tr>\n",
       "      <th>3</th>\n",
       "      <td>Attchd</td>\n",
       "      <td>Fin</td>\n",
       "      <td>TA</td>\n",
       "      <td>TA</td>\n",
       "      <td>1998.0</td>\n",
       "      <td>2.0</td>\n",
       "      <td>470.0</td>\n",
       "    </tr>\n",
       "    <tr>\n",
       "      <th>4</th>\n",
       "      <td>Attchd</td>\n",
       "      <td>RFn</td>\n",
       "      <td>TA</td>\n",
       "      <td>TA</td>\n",
       "      <td>1992.0</td>\n",
       "      <td>2.0</td>\n",
       "      <td>506.0</td>\n",
       "    </tr>\n",
       "  </tbody>\n",
       "</table>\n",
       "</div>"
      ],
      "text/plain": [
       "  GarageType GarageFinish GarageQual GarageCond  GarageYrBlt  GarageCars  \\\n",
       "0     Attchd          Unf         TA         TA       1961.0         1.0   \n",
       "1     Attchd          Unf         TA         TA       1958.0         1.0   \n",
       "2     Attchd          Fin         TA         TA       1997.0         2.0   \n",
       "3     Attchd          Fin         TA         TA       1998.0         2.0   \n",
       "4     Attchd          RFn         TA         TA       1992.0         2.0   \n",
       "\n",
       "   GarageArea  \n",
       "0       730.0  \n",
       "1       312.0  \n",
       "2       482.0  \n",
       "3       470.0  \n",
       "4       506.0  "
      ]
     },
     "execution_count": 26,
     "metadata": {},
     "output_type": "execute_result"
    }
   ],
   "source": [
    "garage_df_new = pd.concat([no_garage_df_new, with_garage_df_new])\n",
    "garage_df_new.sort_index(inplace=True)\n",
    "garage_df_new.head()"
   ]
  },
  {
   "cell_type": "markdown",
   "metadata": {},
   "source": [
    "## CHECK POOL\n",
    "### TRAINING DATA"
   ]
  },
  {
   "cell_type": "code",
   "execution_count": 27,
   "metadata": {},
   "outputs": [
    {
     "data": {
      "text/plain": [
       "PoolArea       0\n",
       "PoolQC      1453\n",
       "dtype: int64"
      ]
     },
     "execution_count": 27,
     "metadata": {},
     "output_type": "execute_result"
    }
   ],
   "source": [
    "pool_df = df[df.columns[df.columns.str.contains('Pool')]]\n",
    "pool_df.head()\n",
    "pool_df.isnull().sum()"
   ]
  },
  {
   "cell_type": "code",
   "execution_count": 28,
   "metadata": {},
   "outputs": [
    {
     "data": {
      "text/html": [
       "<div>\n",
       "<style scoped>\n",
       "    .dataframe tbody tr th:only-of-type {\n",
       "        vertical-align: middle;\n",
       "    }\n",
       "\n",
       "    .dataframe tbody tr th {\n",
       "        vertical-align: top;\n",
       "    }\n",
       "\n",
       "    .dataframe thead th {\n",
       "        text-align: right;\n",
       "    }\n",
       "</style>\n",
       "<table border=\"1\" class=\"dataframe\">\n",
       "  <thead>\n",
       "    <tr style=\"text-align: right;\">\n",
       "      <th></th>\n",
       "      <th>PoolArea</th>\n",
       "      <th>PoolQC</th>\n",
       "    </tr>\n",
       "  </thead>\n",
       "  <tbody>\n",
       "    <tr>\n",
       "      <th>197</th>\n",
       "      <td>512</td>\n",
       "      <td>Ex</td>\n",
       "    </tr>\n",
       "    <tr>\n",
       "      <th>810</th>\n",
       "      <td>648</td>\n",
       "      <td>Fa</td>\n",
       "    </tr>\n",
       "    <tr>\n",
       "      <th>1170</th>\n",
       "      <td>576</td>\n",
       "      <td>Gd</td>\n",
       "    </tr>\n",
       "    <tr>\n",
       "      <th>1182</th>\n",
       "      <td>555</td>\n",
       "      <td>Ex</td>\n",
       "    </tr>\n",
       "    <tr>\n",
       "      <th>1298</th>\n",
       "      <td>480</td>\n",
       "      <td>Gd</td>\n",
       "    </tr>\n",
       "    <tr>\n",
       "      <th>1386</th>\n",
       "      <td>519</td>\n",
       "      <td>Fa</td>\n",
       "    </tr>\n",
       "    <tr>\n",
       "      <th>1423</th>\n",
       "      <td>738</td>\n",
       "      <td>Gd</td>\n",
       "    </tr>\n",
       "  </tbody>\n",
       "</table>\n",
       "</div>"
      ],
      "text/plain": [
       "      PoolArea PoolQC\n",
       "197        512     Ex\n",
       "810        648     Fa\n",
       "1170       576     Gd\n",
       "1182       555     Ex\n",
       "1298       480     Gd\n",
       "1386       519     Fa\n",
       "1423       738     Gd"
      ]
     },
     "execution_count": 28,
     "metadata": {},
     "output_type": "execute_result"
    }
   ],
   "source": [
    "pool_df[pool_df.PoolArea > 0]"
   ]
  },
  {
   "cell_type": "markdown",
   "metadata": {},
   "source": [
    "Based on the table above, we can conclude that null values in PoolArea & PoolQC indicates no pool in the house."
   ]
  },
  {
   "cell_type": "code",
   "execution_count": 29,
   "metadata": {},
   "outputs": [
    {
     "name": "stderr",
     "output_type": "stream",
     "text": [
      "c:\\python\\python38\\lib\\site-packages\\pandas\\core\\generic.py:5491: SettingWithCopyWarning: \n",
      "A value is trying to be set on a copy of a slice from a DataFrame.\n",
      "Try using .loc[row_indexer,col_indexer] = value instead\n",
      "\n",
      "See the caveats in the documentation: https://pandas.pydata.org/pandas-docs/stable/user_guide/indexing.html#returning-a-view-versus-a-copy\n",
      "  self[name] = value\n"
     ]
    },
    {
     "data": {
      "text/plain": [
       "array(['no pool', 'Ex', 'Fa', 'Gd'], dtype=object)"
      ]
     },
     "execution_count": 29,
     "metadata": {},
     "output_type": "execute_result"
    }
   ],
   "source": [
    "pool_df.PoolQC = pool_df.PoolQC.fillna('no pool')\n",
    "pool_df.PoolQC.unique()"
   ]
  },
  {
   "cell_type": "markdown",
   "metadata": {},
   "source": [
    "### TEST DATA"
   ]
  },
  {
   "cell_type": "code",
   "execution_count": 30,
   "metadata": {},
   "outputs": [
    {
     "data": {
      "text/plain": [
       "PoolArea       0\n",
       "PoolQC      1456\n",
       "dtype: int64"
      ]
     },
     "execution_count": 30,
     "metadata": {},
     "output_type": "execute_result"
    }
   ],
   "source": [
    "pool_df_new = df_new[df_new.columns[df_new.columns.str.contains('Pool')]]\n",
    "pool_df_new.head()\n",
    "pool_df_new.isnull().sum()"
   ]
  },
  {
   "cell_type": "code",
   "execution_count": 31,
   "metadata": {},
   "outputs": [
    {
     "data": {
      "text/html": [
       "<div>\n",
       "<style scoped>\n",
       "    .dataframe tbody tr th:only-of-type {\n",
       "        vertical-align: middle;\n",
       "    }\n",
       "\n",
       "    .dataframe tbody tr th {\n",
       "        vertical-align: top;\n",
       "    }\n",
       "\n",
       "    .dataframe thead th {\n",
       "        text-align: right;\n",
       "    }\n",
       "</style>\n",
       "<table border=\"1\" class=\"dataframe\">\n",
       "  <thead>\n",
       "    <tr style=\"text-align: right;\">\n",
       "      <th></th>\n",
       "      <th>PoolArea</th>\n",
       "      <th>PoolQC</th>\n",
       "    </tr>\n",
       "  </thead>\n",
       "  <tbody>\n",
       "    <tr>\n",
       "      <th>514</th>\n",
       "      <td>144</td>\n",
       "      <td>Ex</td>\n",
       "    </tr>\n",
       "    <tr>\n",
       "      <th>960</th>\n",
       "      <td>368</td>\n",
       "      <td>NaN</td>\n",
       "    </tr>\n",
       "    <tr>\n",
       "      <th>1043</th>\n",
       "      <td>444</td>\n",
       "      <td>NaN</td>\n",
       "    </tr>\n",
       "    <tr>\n",
       "      <th>1113</th>\n",
       "      <td>228</td>\n",
       "      <td>Ex</td>\n",
       "    </tr>\n",
       "    <tr>\n",
       "      <th>1139</th>\n",
       "      <td>561</td>\n",
       "      <td>NaN</td>\n",
       "    </tr>\n",
       "    <tr>\n",
       "      <th>1250</th>\n",
       "      <td>800</td>\n",
       "      <td>Gd</td>\n",
       "    </tr>\n",
       "  </tbody>\n",
       "</table>\n",
       "</div>"
      ],
      "text/plain": [
       "      PoolArea PoolQC\n",
       "514        144     Ex\n",
       "960        368    NaN\n",
       "1043       444    NaN\n",
       "1113       228     Ex\n",
       "1139       561    NaN\n",
       "1250       800     Gd"
      ]
     },
     "execution_count": 31,
     "metadata": {},
     "output_type": "execute_result"
    }
   ],
   "source": [
    "pool_df_new[pool_df_new.PoolArea > 0]"
   ]
  },
  {
   "cell_type": "markdown",
   "metadata": {},
   "source": [
    "Impute 'Gd' PoolQC in houses with pool (assumes pool have Good quality!)"
   ]
  },
  {
   "cell_type": "code",
   "execution_count": 32,
   "metadata": {},
   "outputs": [
    {
     "name": "stderr",
     "output_type": "stream",
     "text": [
      "<ipython-input-32-6607daba740f>:1: SettingWithCopyWarning: \n",
      "A value is trying to be set on a copy of a slice from a DataFrame\n",
      "\n",
      "See the caveats in the documentation: https://pandas.pydata.org/pandas-docs/stable/user_guide/indexing.html#returning-a-view-versus-a-copy\n",
      "  pool_df_new.PoolQC[pool_df_new.PoolArea > 0] = pool_df_new.PoolQC[pool_df_new.PoolArea > 0].fillna('Gd')\n",
      "c:\\python\\python38\\lib\\site-packages\\pandas\\core\\series.py:963: SettingWithCopyWarning: \n",
      "A value is trying to be set on a copy of a slice from a DataFrame\n",
      "\n",
      "See the caveats in the documentation: https://pandas.pydata.org/pandas-docs/stable/user_guide/indexing.html#returning-a-view-versus-a-copy\n",
      "  self._where(~key, value, inplace=True)\n"
     ]
    },
    {
     "data": {
      "text/html": [
       "<div>\n",
       "<style scoped>\n",
       "    .dataframe tbody tr th:only-of-type {\n",
       "        vertical-align: middle;\n",
       "    }\n",
       "\n",
       "    .dataframe tbody tr th {\n",
       "        vertical-align: top;\n",
       "    }\n",
       "\n",
       "    .dataframe thead th {\n",
       "        text-align: right;\n",
       "    }\n",
       "</style>\n",
       "<table border=\"1\" class=\"dataframe\">\n",
       "  <thead>\n",
       "    <tr style=\"text-align: right;\">\n",
       "      <th></th>\n",
       "      <th>PoolArea</th>\n",
       "      <th>PoolQC</th>\n",
       "    </tr>\n",
       "  </thead>\n",
       "  <tbody>\n",
       "    <tr>\n",
       "      <th>514</th>\n",
       "      <td>144</td>\n",
       "      <td>Ex</td>\n",
       "    </tr>\n",
       "    <tr>\n",
       "      <th>960</th>\n",
       "      <td>368</td>\n",
       "      <td>Gd</td>\n",
       "    </tr>\n",
       "    <tr>\n",
       "      <th>1043</th>\n",
       "      <td>444</td>\n",
       "      <td>Gd</td>\n",
       "    </tr>\n",
       "    <tr>\n",
       "      <th>1113</th>\n",
       "      <td>228</td>\n",
       "      <td>Ex</td>\n",
       "    </tr>\n",
       "    <tr>\n",
       "      <th>1139</th>\n",
       "      <td>561</td>\n",
       "      <td>Gd</td>\n",
       "    </tr>\n",
       "    <tr>\n",
       "      <th>1250</th>\n",
       "      <td>800</td>\n",
       "      <td>Gd</td>\n",
       "    </tr>\n",
       "  </tbody>\n",
       "</table>\n",
       "</div>"
      ],
      "text/plain": [
       "      PoolArea PoolQC\n",
       "514        144     Ex\n",
       "960        368     Gd\n",
       "1043       444     Gd\n",
       "1113       228     Ex\n",
       "1139       561     Gd\n",
       "1250       800     Gd"
      ]
     },
     "execution_count": 32,
     "metadata": {},
     "output_type": "execute_result"
    }
   ],
   "source": [
    "pool_df_new.PoolQC[pool_df_new.PoolArea > 0] = pool_df_new.PoolQC[pool_df_new.PoolArea > 0].fillna('Gd')\n",
    "pool_df_new[pool_df_new.PoolArea > 0]"
   ]
  },
  {
   "cell_type": "code",
   "execution_count": 33,
   "metadata": {},
   "outputs": [
    {
     "name": "stderr",
     "output_type": "stream",
     "text": [
      "c:\\python\\python38\\lib\\site-packages\\pandas\\core\\generic.py:5491: SettingWithCopyWarning: \n",
      "A value is trying to be set on a copy of a slice from a DataFrame.\n",
      "Try using .loc[row_indexer,col_indexer] = value instead\n",
      "\n",
      "See the caveats in the documentation: https://pandas.pydata.org/pandas-docs/stable/user_guide/indexing.html#returning-a-view-versus-a-copy\n",
      "  self[name] = value\n"
     ]
    },
    {
     "data": {
      "text/plain": [
       "array(['no pool', 'Ex', 'Gd'], dtype=object)"
      ]
     },
     "execution_count": 33,
     "metadata": {},
     "output_type": "execute_result"
    }
   ],
   "source": [
    "pool_df_new.PoolQC = pool_df_new.PoolQC.fillna('no pool')\n",
    "pool_df_new.PoolQC.unique()"
   ]
  },
  {
   "cell_type": "markdown",
   "metadata": {},
   "source": [
    "## CHECK MASONRY VENEER\n",
    "### TRAINING DATA"
   ]
  },
  {
   "cell_type": "code",
   "execution_count": 34,
   "metadata": {},
   "outputs": [
    {
     "name": "stdout",
     "output_type": "stream",
     "text": [
      "  MasVnrType  MasVnrArea\n",
      "0    BrkFace       196.0\n",
      "1       None         0.0\n",
      "2    BrkFace       162.0\n",
      "3       None         0.0\n",
      "4    BrkFace       350.0\n",
      "MasVnrType    8\n",
      "MasVnrArea    8\n",
      "dtype: int64\n"
     ]
    }
   ],
   "source": [
    "masvnr_df = df[df.columns[df.columns.str.contains('Mas')]]\n",
    "print(masvnr_df.head())\n",
    "print(masvnr_df.isnull().sum())"
   ]
  },
  {
   "cell_type": "code",
   "execution_count": 35,
   "metadata": {},
   "outputs": [
    {
     "data": {
      "text/html": [
       "<div>\n",
       "<style scoped>\n",
       "    .dataframe tbody tr th:only-of-type {\n",
       "        vertical-align: middle;\n",
       "    }\n",
       "\n",
       "    .dataframe tbody tr th {\n",
       "        vertical-align: top;\n",
       "    }\n",
       "\n",
       "    .dataframe thead th {\n",
       "        text-align: right;\n",
       "    }\n",
       "</style>\n",
       "<table border=\"1\" class=\"dataframe\">\n",
       "  <thead>\n",
       "    <tr style=\"text-align: right;\">\n",
       "      <th></th>\n",
       "      <th>MasVnrType</th>\n",
       "      <th>MasVnrArea</th>\n",
       "    </tr>\n",
       "  </thead>\n",
       "  <tbody>\n",
       "    <tr>\n",
       "      <th>234</th>\n",
       "      <td>NaN</td>\n",
       "      <td>NaN</td>\n",
       "    </tr>\n",
       "    <tr>\n",
       "      <th>529</th>\n",
       "      <td>NaN</td>\n",
       "      <td>NaN</td>\n",
       "    </tr>\n",
       "    <tr>\n",
       "      <th>650</th>\n",
       "      <td>NaN</td>\n",
       "      <td>NaN</td>\n",
       "    </tr>\n",
       "    <tr>\n",
       "      <th>936</th>\n",
       "      <td>NaN</td>\n",
       "      <td>NaN</td>\n",
       "    </tr>\n",
       "    <tr>\n",
       "      <th>973</th>\n",
       "      <td>NaN</td>\n",
       "      <td>NaN</td>\n",
       "    </tr>\n",
       "    <tr>\n",
       "      <th>977</th>\n",
       "      <td>NaN</td>\n",
       "      <td>NaN</td>\n",
       "    </tr>\n",
       "    <tr>\n",
       "      <th>1243</th>\n",
       "      <td>NaN</td>\n",
       "      <td>NaN</td>\n",
       "    </tr>\n",
       "    <tr>\n",
       "      <th>1278</th>\n",
       "      <td>NaN</td>\n",
       "      <td>NaN</td>\n",
       "    </tr>\n",
       "  </tbody>\n",
       "</table>\n",
       "</div>"
      ],
      "text/plain": [
       "     MasVnrType  MasVnrArea\n",
       "234         NaN         NaN\n",
       "529         NaN         NaN\n",
       "650         NaN         NaN\n",
       "936         NaN         NaN\n",
       "973         NaN         NaN\n",
       "977         NaN         NaN\n",
       "1243        NaN         NaN\n",
       "1278        NaN         NaN"
      ]
     },
     "execution_count": 35,
     "metadata": {},
     "output_type": "execute_result"
    }
   ],
   "source": [
    "masvnr_df[masvnr_df.MasVnrType.isnull()]"
   ]
  },
  {
   "cell_type": "markdown",
   "metadata": {},
   "source": [
    "Fill MasVnrType with 'None' and MasVnrArea with 0:"
   ]
  },
  {
   "cell_type": "code",
   "execution_count": 36,
   "metadata": {},
   "outputs": [
    {
     "name": "stderr",
     "output_type": "stream",
     "text": [
      "c:\\python\\python38\\lib\\site-packages\\pandas\\core\\generic.py:5491: SettingWithCopyWarning: \n",
      "A value is trying to be set on a copy of a slice from a DataFrame.\n",
      "Try using .loc[row_indexer,col_indexer] = value instead\n",
      "\n",
      "See the caveats in the documentation: https://pandas.pydata.org/pandas-docs/stable/user_guide/indexing.html#returning-a-view-versus-a-copy\n",
      "  self[name] = value\n"
     ]
    }
   ],
   "source": [
    "masvnr_df.MasVnrType = masvnr_df.MasVnrType.fillna('None')\n",
    "masvnr_df.MasVnrArea = masvnr_df.MasVnrArea.fillna(0)"
   ]
  },
  {
   "cell_type": "code",
   "execution_count": 37,
   "metadata": {},
   "outputs": [
    {
     "data": {
      "text/plain": [
       "array(['BrkFace', 'None', 'Stone', 'BrkCmn'], dtype=object)"
      ]
     },
     "execution_count": 37,
     "metadata": {},
     "output_type": "execute_result"
    }
   ],
   "source": [
    "masvnr_df.MasVnrType.unique()"
   ]
  },
  {
   "cell_type": "markdown",
   "metadata": {},
   "source": [
    "### TEST DATA"
   ]
  },
  {
   "cell_type": "code",
   "execution_count": 38,
   "metadata": {},
   "outputs": [
    {
     "name": "stdout",
     "output_type": "stream",
     "text": [
      "  MasVnrType  MasVnrArea\n",
      "0       None         0.0\n",
      "1    BrkFace       108.0\n",
      "2       None         0.0\n",
      "3    BrkFace        20.0\n",
      "4       None         0.0\n",
      "MasVnrType    16\n",
      "MasVnrArea    15\n",
      "dtype: int64\n"
     ]
    }
   ],
   "source": [
    "masvnr_df_new = df_new[df_new.columns[df_new.columns.str.contains('Mas')]]\n",
    "print(masvnr_df_new.head())\n",
    "print(masvnr_df_new.isnull().sum())"
   ]
  },
  {
   "cell_type": "code",
   "execution_count": 39,
   "metadata": {},
   "outputs": [
    {
     "data": {
      "text/html": [
       "<div>\n",
       "<style scoped>\n",
       "    .dataframe tbody tr th:only-of-type {\n",
       "        vertical-align: middle;\n",
       "    }\n",
       "\n",
       "    .dataframe tbody tr th {\n",
       "        vertical-align: top;\n",
       "    }\n",
       "\n",
       "    .dataframe thead th {\n",
       "        text-align: right;\n",
       "    }\n",
       "</style>\n",
       "<table border=\"1\" class=\"dataframe\">\n",
       "  <thead>\n",
       "    <tr style=\"text-align: right;\">\n",
       "      <th></th>\n",
       "      <th>MasVnrType</th>\n",
       "      <th>MasVnrArea</th>\n",
       "    </tr>\n",
       "  </thead>\n",
       "  <tbody>\n",
       "    <tr>\n",
       "      <th>231</th>\n",
       "      <td>NaN</td>\n",
       "      <td>NaN</td>\n",
       "    </tr>\n",
       "    <tr>\n",
       "      <th>246</th>\n",
       "      <td>NaN</td>\n",
       "      <td>NaN</td>\n",
       "    </tr>\n",
       "    <tr>\n",
       "      <th>422</th>\n",
       "      <td>NaN</td>\n",
       "      <td>NaN</td>\n",
       "    </tr>\n",
       "    <tr>\n",
       "      <th>532</th>\n",
       "      <td>NaN</td>\n",
       "      <td>NaN</td>\n",
       "    </tr>\n",
       "    <tr>\n",
       "      <th>544</th>\n",
       "      <td>NaN</td>\n",
       "      <td>NaN</td>\n",
       "    </tr>\n",
       "    <tr>\n",
       "      <th>581</th>\n",
       "      <td>NaN</td>\n",
       "      <td>NaN</td>\n",
       "    </tr>\n",
       "    <tr>\n",
       "      <th>851</th>\n",
       "      <td>NaN</td>\n",
       "      <td>NaN</td>\n",
       "    </tr>\n",
       "    <tr>\n",
       "      <th>865</th>\n",
       "      <td>NaN</td>\n",
       "      <td>NaN</td>\n",
       "    </tr>\n",
       "    <tr>\n",
       "      <th>880</th>\n",
       "      <td>NaN</td>\n",
       "      <td>NaN</td>\n",
       "    </tr>\n",
       "    <tr>\n",
       "      <th>889</th>\n",
       "      <td>NaN</td>\n",
       "      <td>NaN</td>\n",
       "    </tr>\n",
       "    <tr>\n",
       "      <th>908</th>\n",
       "      <td>NaN</td>\n",
       "      <td>NaN</td>\n",
       "    </tr>\n",
       "    <tr>\n",
       "      <th>1132</th>\n",
       "      <td>NaN</td>\n",
       "      <td>NaN</td>\n",
       "    </tr>\n",
       "    <tr>\n",
       "      <th>1150</th>\n",
       "      <td>NaN</td>\n",
       "      <td>198.0</td>\n",
       "    </tr>\n",
       "    <tr>\n",
       "      <th>1197</th>\n",
       "      <td>NaN</td>\n",
       "      <td>NaN</td>\n",
       "    </tr>\n",
       "    <tr>\n",
       "      <th>1226</th>\n",
       "      <td>NaN</td>\n",
       "      <td>NaN</td>\n",
       "    </tr>\n",
       "    <tr>\n",
       "      <th>1402</th>\n",
       "      <td>NaN</td>\n",
       "      <td>NaN</td>\n",
       "    </tr>\n",
       "  </tbody>\n",
       "</table>\n",
       "</div>"
      ],
      "text/plain": [
       "     MasVnrType  MasVnrArea\n",
       "231         NaN         NaN\n",
       "246         NaN         NaN\n",
       "422         NaN         NaN\n",
       "532         NaN         NaN\n",
       "544         NaN         NaN\n",
       "581         NaN         NaN\n",
       "851         NaN         NaN\n",
       "865         NaN         NaN\n",
       "880         NaN         NaN\n",
       "889         NaN         NaN\n",
       "908         NaN         NaN\n",
       "1132        NaN         NaN\n",
       "1150        NaN       198.0\n",
       "1197        NaN         NaN\n",
       "1226        NaN         NaN\n",
       "1402        NaN         NaN"
      ]
     },
     "execution_count": 39,
     "metadata": {},
     "output_type": "execute_result"
    }
   ],
   "source": [
    "masvnr_df_new[masvnr_df_new.MasVnrType.isnull()]"
   ]
  },
  {
   "cell_type": "markdown",
   "metadata": {},
   "source": [
    "Fill with 0 & 'None' for houses without MasonryVnr:"
   ]
  },
  {
   "cell_type": "code",
   "execution_count": 40,
   "metadata": {},
   "outputs": [
    {
     "name": "stderr",
     "output_type": "stream",
     "text": [
      "c:\\python\\python38\\lib\\site-packages\\pandas\\core\\generic.py:5491: SettingWithCopyWarning: \n",
      "A value is trying to be set on a copy of a slice from a DataFrame.\n",
      "Try using .loc[row_indexer,col_indexer] = value instead\n",
      "\n",
      "See the caveats in the documentation: https://pandas.pydata.org/pandas-docs/stable/user_guide/indexing.html#returning-a-view-versus-a-copy\n",
      "  self[name] = value\n",
      "<ipython-input-40-c9e428ca5a0a>:2: SettingWithCopyWarning: \n",
      "A value is trying to be set on a copy of a slice from a DataFrame\n",
      "\n",
      "See the caveats in the documentation: https://pandas.pydata.org/pandas-docs/stable/user_guide/indexing.html#returning-a-view-versus-a-copy\n",
      "  masvnr_df_new.MasVnrType[masvnr_df_new.MasVnrArea == 0] = masvnr_df_new.MasVnrType[masvnr_df_new.MasVnrArea == 0].fillna('None')\n",
      "c:\\python\\python38\\lib\\site-packages\\pandas\\core\\series.py:963: SettingWithCopyWarning: \n",
      "A value is trying to be set on a copy of a slice from a DataFrame\n",
      "\n",
      "See the caveats in the documentation: https://pandas.pydata.org/pandas-docs/stable/user_guide/indexing.html#returning-a-view-versus-a-copy\n",
      "  self._where(~key, value, inplace=True)\n"
     ]
    }
   ],
   "source": [
    "masvnr_df_new.MasVnrArea = masvnr_df_new.MasVnrArea.fillna(0)\n",
    "masvnr_df_new.MasVnrType[masvnr_df_new.MasVnrArea == 0] = masvnr_df_new.MasVnrType[masvnr_df_new.MasVnrArea == 0].fillna('None')"
   ]
  },
  {
   "cell_type": "code",
   "execution_count": 41,
   "metadata": {},
   "outputs": [
    {
     "data": {
      "text/plain": [
       "None       893\n",
       "BrkFace    434\n",
       "Stone      121\n",
       "BrkCmn      10\n",
       "Name: MasVnrType, dtype: int64"
      ]
     },
     "execution_count": 41,
     "metadata": {},
     "output_type": "execute_result"
    }
   ],
   "source": [
    "masvnr_df_new.MasVnrType.value_counts()"
   ]
  },
  {
   "cell_type": "markdown",
   "metadata": {},
   "source": [
    "Fill with most frequent value (not including 'None') for houses with MasonVnr"
   ]
  },
  {
   "cell_type": "code",
   "execution_count": 42,
   "metadata": {},
   "outputs": [
    {
     "name": "stderr",
     "output_type": "stream",
     "text": [
      "<ipython-input-42-8bfe3cad737b>:2: SettingWithCopyWarning: \n",
      "A value is trying to be set on a copy of a slice from a DataFrame\n",
      "\n",
      "See the caveats in the documentation: https://pandas.pydata.org/pandas-docs/stable/user_guide/indexing.html#returning-a-view-versus-a-copy\n",
      "  masvnr_df_new.MasVnrType[mask] = masvnr_df_new.MasVnrType[mask].fillna(masvnr_df_new.MasVnrType.value_counts().index[1])\n",
      "c:\\python\\python38\\lib\\site-packages\\pandas\\core\\series.py:963: SettingWithCopyWarning: \n",
      "A value is trying to be set on a copy of a slice from a DataFrame\n",
      "\n",
      "See the caveats in the documentation: https://pandas.pydata.org/pandas-docs/stable/user_guide/indexing.html#returning-a-view-versus-a-copy\n",
      "  self._where(~key, value, inplace=True)\n"
     ]
    }
   ],
   "source": [
    "mask = (masvnr_df_new.MasVnrType.isnull() == True) & (masvnr_df_new.MasVnrArea > 0)\n",
    "masvnr_df_new.MasVnrType[mask] = masvnr_df_new.MasVnrType[mask].fillna(masvnr_df_new.MasVnrType.value_counts().index[1])"
   ]
  },
  {
   "cell_type": "code",
   "execution_count": 43,
   "metadata": {},
   "outputs": [
    {
     "name": "stdout",
     "output_type": "stream",
     "text": [
      "MasVnrType    0\n",
      "MasVnrArea    0\n",
      "dtype: int64\n",
      "['None' 'BrkFace' 'Stone' 'BrkCmn']\n"
     ]
    }
   ],
   "source": [
    "print(masvnr_df_new.isnull().sum())\n",
    "print(masvnr_df_new.MasVnrType.unique())"
   ]
  },
  {
   "cell_type": "markdown",
   "metadata": {},
   "source": [
    "## CHECK FIREPLACE"
   ]
  },
  {
   "cell_type": "markdown",
   "metadata": {},
   "source": [
    "### TRAINING DATA"
   ]
  },
  {
   "cell_type": "code",
   "execution_count": 44,
   "metadata": {},
   "outputs": [
    {
     "name": "stdout",
     "output_type": "stream",
     "text": [
      "   Fireplaces FireplaceQu\n",
      "0           0         NaN\n",
      "1           1          TA\n",
      "2           1          TA\n",
      "3           1          Gd\n",
      "4           1          TA\n",
      "Fireplaces       0\n",
      "FireplaceQu    690\n",
      "dtype: int64\n"
     ]
    }
   ],
   "source": [
    "fireplace_df = df[df.columns[df.columns.str.contains('Fire')]]\n",
    "print(fireplace_df.head())\n",
    "print(fireplace_df.isnull().sum())"
   ]
  },
  {
   "cell_type": "code",
   "execution_count": 45,
   "metadata": {},
   "outputs": [
    {
     "name": "stderr",
     "output_type": "stream",
     "text": [
      "<ipython-input-45-c5a3361d30c0>:1: SettingWithCopyWarning: \n",
      "A value is trying to be set on a copy of a slice from a DataFrame\n",
      "\n",
      "See the caveats in the documentation: https://pandas.pydata.org/pandas-docs/stable/user_guide/indexing.html#returning-a-view-versus-a-copy\n",
      "  fireplace_df.FireplaceQu[fireplace_df.Fireplaces == 0] = fireplace_df.FireplaceQu[fireplace_df.Fireplaces == 0].fillna('no fireplace')\n",
      "c:\\python\\python38\\lib\\site-packages\\pandas\\core\\series.py:963: SettingWithCopyWarning: \n",
      "A value is trying to be set on a copy of a slice from a DataFrame\n",
      "\n",
      "See the caveats in the documentation: https://pandas.pydata.org/pandas-docs/stable/user_guide/indexing.html#returning-a-view-versus-a-copy\n",
      "  self._where(~key, value, inplace=True)\n"
     ]
    }
   ],
   "source": [
    "fireplace_df.FireplaceQu[fireplace_df.Fireplaces == 0] = fireplace_df.FireplaceQu[fireplace_df.Fireplaces == 0].fillna('no fireplace')"
   ]
  },
  {
   "cell_type": "code",
   "execution_count": 46,
   "metadata": {},
   "outputs": [
    {
     "name": "stdout",
     "output_type": "stream",
     "text": [
      "Fireplaces     0\n",
      "FireplaceQu    0\n",
      "dtype: int64\n"
     ]
    }
   ],
   "source": [
    "print(fireplace_df.isnull().sum())"
   ]
  },
  {
   "cell_type": "markdown",
   "metadata": {},
   "source": [
    "### TEST DATA"
   ]
  },
  {
   "cell_type": "code",
   "execution_count": 47,
   "metadata": {},
   "outputs": [
    {
     "name": "stdout",
     "output_type": "stream",
     "text": [
      "   Fireplaces FireplaceQu\n",
      "0           0         NaN\n",
      "1           0         NaN\n",
      "2           1          TA\n",
      "3           1          Gd\n",
      "4           0         NaN\n",
      "Fireplaces       0\n",
      "FireplaceQu    730\n",
      "dtype: int64\n"
     ]
    }
   ],
   "source": [
    "fireplace_df_new = df_new[df_new.columns[df_new.columns.str.contains('Fire')]]\n",
    "print(fireplace_df_new.head())\n",
    "print(fireplace_df_new.isnull().sum())"
   ]
  },
  {
   "cell_type": "code",
   "execution_count": 48,
   "metadata": {},
   "outputs": [
    {
     "name": "stderr",
     "output_type": "stream",
     "text": [
      "<ipython-input-48-377646dd5994>:1: SettingWithCopyWarning: \n",
      "A value is trying to be set on a copy of a slice from a DataFrame\n",
      "\n",
      "See the caveats in the documentation: https://pandas.pydata.org/pandas-docs/stable/user_guide/indexing.html#returning-a-view-versus-a-copy\n",
      "  fireplace_df_new.FireplaceQu[fireplace_df_new.Fireplaces == 0] = fireplace_df_new.FireplaceQu[fireplace_df_new.Fireplaces == 0].fillna('no fireplace')\n",
      "c:\\python\\python38\\lib\\site-packages\\pandas\\core\\series.py:963: SettingWithCopyWarning: \n",
      "A value is trying to be set on a copy of a slice from a DataFrame\n",
      "\n",
      "See the caveats in the documentation: https://pandas.pydata.org/pandas-docs/stable/user_guide/indexing.html#returning-a-view-versus-a-copy\n",
      "  self._where(~key, value, inplace=True)\n"
     ]
    }
   ],
   "source": [
    "fireplace_df_new.FireplaceQu[fireplace_df_new.Fireplaces == 0] = fireplace_df_new.FireplaceQu[fireplace_df_new.Fireplaces == 0].fillna('no fireplace')"
   ]
  },
  {
   "cell_type": "code",
   "execution_count": 49,
   "metadata": {},
   "outputs": [
    {
     "name": "stdout",
     "output_type": "stream",
     "text": [
      "Fireplaces     0\n",
      "FireplaceQu    0\n",
      "dtype: int64\n"
     ]
    }
   ],
   "source": [
    "print(fireplace_df_new.isnull().sum())"
   ]
  },
  {
   "cell_type": "markdown",
   "metadata": {},
   "source": [
    "## CHECK OTHER FEATURES"
   ]
  },
  {
   "cell_type": "code",
   "execution_count": 50,
   "metadata": {},
   "outputs": [],
   "source": [
    "col_used = np.concatenate((garage_df.columns.values, bsmt_df.columns.values, pool_df.columns.values,\n",
    "                           masvnr_df.columns.values, fireplace_df.columns.values))\n",
    "remaining_df = df.drop(col_used, axis=1)\n",
    "remaining_df_new = df_new.drop(col_used, axis=1)"
   ]
  },
  {
   "cell_type": "markdown",
   "metadata": {},
   "source": [
    "### TRAINING DATA"
   ]
  },
  {
   "cell_type": "code",
   "execution_count": 51,
   "metadata": {},
   "outputs": [
    {
     "data": {
      "text/plain": [
       "LotFrontage     259\n",
       "Alley          1369\n",
       "Electrical        1\n",
       "Fence          1179\n",
       "MiscFeature    1406\n",
       "dtype: int64"
      ]
     },
     "execution_count": 51,
     "metadata": {},
     "output_type": "execute_result"
    }
   ],
   "source": [
    "remaining_df.isnull().sum()[remaining_df.isnull().sum() > 0]"
   ]
  },
  {
   "cell_type": "code",
   "execution_count": 52,
   "metadata": {},
   "outputs": [],
   "source": [
    "remaining_df.LotFrontage = remaining_df.LotFrontage.fillna(remaining_df.LotFrontage.mean())\n",
    "remaining_df.Alley = remaining_df.Alley.fillna('no alley')\n",
    "remaining_df.Electrical = remaining_df.Electrical.fillna(remaining_df.Electrical.value_counts().index[0])\n",
    "remaining_df.Fence = remaining_df.Fence.fillna('no fence')\n",
    "remaining_df.MiscFeature = remaining_df.MiscFeature.fillna('no misc feature')"
   ]
  },
  {
   "cell_type": "code",
   "execution_count": 53,
   "metadata": {},
   "outputs": [
    {
     "name": "stdout",
     "output_type": "stream",
     "text": [
      "<class 'pandas.core.frame.DataFrame'>\n",
      "RangeIndex: 1460 entries, 0 to 1459\n",
      "Data columns (total 81 columns):\n",
      " #   Column         Non-Null Count  Dtype  \n",
      "---  ------         --------------  -----  \n",
      " 0   MSSubClass     1460 non-null   object \n",
      " 1   MSZoning       1460 non-null   object \n",
      " 2   LotFrontage    1460 non-null   float64\n",
      " 3   LotArea        1460 non-null   int64  \n",
      " 4   Street         1460 non-null   object \n",
      " 5   Alley          1460 non-null   object \n",
      " 6   LotShape       1460 non-null   object \n",
      " 7   LandContour    1460 non-null   object \n",
      " 8   Utilities      1460 non-null   object \n",
      " 9   LotConfig      1460 non-null   object \n",
      " 10  LandSlope      1460 non-null   object \n",
      " 11  Neighborhood   1460 non-null   object \n",
      " 12  Condition1     1460 non-null   object \n",
      " 13  Condition2     1460 non-null   object \n",
      " 14  BldgType       1460 non-null   object \n",
      " 15  HouseStyle     1460 non-null   object \n",
      " 16  OverallQual    1460 non-null   int64  \n",
      " 17  OverallCond    1460 non-null   int64  \n",
      " 18  YearBuilt      1460 non-null   int64  \n",
      " 19  YearRemodAdd   1460 non-null   int64  \n",
      " 20  RoofStyle      1460 non-null   object \n",
      " 21  RoofMatl       1460 non-null   object \n",
      " 22  Exterior1st    1460 non-null   object \n",
      " 23  Exterior2nd    1460 non-null   object \n",
      " 24  ExterQual      1460 non-null   object \n",
      " 25  ExterCond      1460 non-null   object \n",
      " 26  Foundation     1460 non-null   object \n",
      " 27  Heating        1460 non-null   object \n",
      " 28  HeatingQC      1460 non-null   object \n",
      " 29  CentralAir     1460 non-null   object \n",
      " 30  Electrical     1460 non-null   object \n",
      " 31  1stFlrSF       1460 non-null   int64  \n",
      " 32  2ndFlrSF       1460 non-null   int64  \n",
      " 33  LowQualFinSF   1460 non-null   int64  \n",
      " 34  GrLivArea      1460 non-null   int64  \n",
      " 35  FullBath       1460 non-null   int64  \n",
      " 36  HalfBath       1460 non-null   int64  \n",
      " 37  BedroomAbvGr   1460 non-null   int64  \n",
      " 38  KitchenAbvGr   1460 non-null   int64  \n",
      " 39  KitchenQual    1460 non-null   object \n",
      " 40  TotRmsAbvGrd   1460 non-null   int64  \n",
      " 41  Functional     1460 non-null   object \n",
      " 42  PavedDrive     1460 non-null   object \n",
      " 43  WoodDeckSF     1460 non-null   int64  \n",
      " 44  OpenPorchSF    1460 non-null   int64  \n",
      " 45  EnclosedPorch  1460 non-null   int64  \n",
      " 46  3SsnPorch      1460 non-null   int64  \n",
      " 47  ScreenPorch    1460 non-null   int64  \n",
      " 48  Fence          1460 non-null   object \n",
      " 49  MiscFeature    1460 non-null   object \n",
      " 50  MiscVal        1460 non-null   int64  \n",
      " 51  MoSold         1460 non-null   int64  \n",
      " 52  YrSold         1460 non-null   object \n",
      " 53  SaleType       1460 non-null   object \n",
      " 54  SaleCondition  1460 non-null   object \n",
      " 55  SalePrice      1460 non-null   int64  \n",
      " 56  Fireplaces     1460 non-null   int64  \n",
      " 57  FireplaceQu    1460 non-null   object \n",
      " 58  PoolArea       1460 non-null   int64  \n",
      " 59  PoolQC         1460 non-null   object \n",
      " 60  MasVnrType     1460 non-null   object \n",
      " 61  MasVnrArea     1460 non-null   float64\n",
      " 62  GarageType     1460 non-null   object \n",
      " 63  GarageFinish   1460 non-null   object \n",
      " 64  GarageQual     1460 non-null   object \n",
      " 65  GarageCond     1460 non-null   object \n",
      " 66  GarageYrBlt    1460 non-null   float64\n",
      " 67  GarageCars     1460 non-null   float64\n",
      " 68  GarageArea     1460 non-null   float64\n",
      " 69  BsmtQual       1460 non-null   object \n",
      " 70  BsmtCond       1460 non-null   object \n",
      " 71  BsmtExposure   1460 non-null   object \n",
      " 72  BsmtFinType1   1460 non-null   object \n",
      " 73  BsmtFinType2   1460 non-null   object \n",
      " 74  BsmtFinSF1     1460 non-null   float64\n",
      " 75  BsmtFinSF2     1460 non-null   float64\n",
      " 76  BsmtUnfSF      1460 non-null   float64\n",
      " 77  TotalBsmtSF    1460 non-null   float64\n",
      " 78  BsmtFullBath   1460 non-null   float64\n",
      " 79  BsmtHalfBath   1460 non-null   float64\n",
      " 80  test_set       1460 non-null   int64  \n",
      "dtypes: float64(11), int64(25), object(45)\n",
      "memory usage: 924.0+ KB\n",
      "None\n"
     ]
    }
   ],
   "source": [
    "df = pd.concat([remaining_df, fireplace_df, pool_df, masvnr_df, garage_df, bsmt_df], axis=1)\n",
    "df['test_set'] = 0\n",
    "print(df.info())"
   ]
  },
  {
   "cell_type": "markdown",
   "metadata": {},
   "source": [
    "### TEST DATA"
   ]
  },
  {
   "cell_type": "code",
   "execution_count": 54,
   "metadata": {},
   "outputs": [
    {
     "data": {
      "text/plain": [
       "MSZoning          4\n",
       "LotFrontage     227\n",
       "Alley          1352\n",
       "Utilities         2\n",
       "Exterior1st       1\n",
       "Exterior2nd       1\n",
       "KitchenQual       1\n",
       "Functional        2\n",
       "Fence          1169\n",
       "MiscFeature    1408\n",
       "SaleType          1\n",
       "dtype: int64"
      ]
     },
     "execution_count": 54,
     "metadata": {},
     "output_type": "execute_result"
    }
   ],
   "source": [
    "remaining_df_new.isnull().sum()[remaining_df_new.isnull().sum() > 0]"
   ]
  },
  {
   "cell_type": "code",
   "execution_count": 55,
   "metadata": {},
   "outputs": [],
   "source": [
    "remaining_df_new.LotFrontage = remaining_df_new.LotFrontage.fillna(remaining_df_new.LotFrontage.mean())\n",
    "remaining_df_new.Alley = remaining_df_new.Alley.fillna('no alley')\n",
    "remaining_df_new.Fence = remaining_df_new.Fence.fillna('no fence')\n",
    "remaining_df_new.MiscFeature = remaining_df_new.MiscFeature.fillna('no misc feature')\n",
    "remaining_df_new.Utilities = remaining_df_new.Utilities.fillna(remaining_df_new.Utilities.value_counts().index[0])\n",
    "remaining_df_new.Exterior1st = remaining_df_new.Exterior1st.fillna(remaining_df_new.Exterior1st.value_counts().index[0])\n",
    "remaining_df_new.Exterior2nd = remaining_df_new.Exterior2nd.fillna(remaining_df_new.Exterior2nd.value_counts().index[0])\n",
    "remaining_df_new.KitchenQual = remaining_df_new.KitchenQual.fillna(remaining_df_new.KitchenQual.value_counts().index[0])\n",
    "remaining_df_new.Functional = remaining_df_new.Functional.fillna(remaining_df_new.Functional.value_counts().index[0])\n",
    "remaining_df_new.SaleType = remaining_df_new.SaleType.fillna(remaining_df_new.SaleType.value_counts().index[0])\n",
    "remaining_df_new.MSZoning = remaining_df_new.MSZoning.fillna(remaining_df_new.MSZoning.value_counts().index[0])"
   ]
  },
  {
   "cell_type": "code",
   "execution_count": 56,
   "metadata": {},
   "outputs": [
    {
     "name": "stdout",
     "output_type": "stream",
     "text": [
      "<class 'pandas.core.frame.DataFrame'>\n",
      "RangeIndex: 1459 entries, 0 to 1458\n",
      "Data columns (total 80 columns):\n",
      " #   Column         Non-Null Count  Dtype  \n",
      "---  ------         --------------  -----  \n",
      " 0   MSSubClass     1459 non-null   object \n",
      " 1   MSZoning       1459 non-null   object \n",
      " 2   LotFrontage    1459 non-null   float64\n",
      " 3   LotArea        1459 non-null   int64  \n",
      " 4   Street         1459 non-null   object \n",
      " 5   Alley          1459 non-null   object \n",
      " 6   LotShape       1459 non-null   object \n",
      " 7   LandContour    1459 non-null   object \n",
      " 8   Utilities      1459 non-null   object \n",
      " 9   LotConfig      1459 non-null   object \n",
      " 10  LandSlope      1459 non-null   object \n",
      " 11  Neighborhood   1459 non-null   object \n",
      " 12  Condition1     1459 non-null   object \n",
      " 13  Condition2     1459 non-null   object \n",
      " 14  BldgType       1459 non-null   object \n",
      " 15  HouseStyle     1459 non-null   object \n",
      " 16  OverallQual    1459 non-null   int64  \n",
      " 17  OverallCond    1459 non-null   int64  \n",
      " 18  YearBuilt      1459 non-null   int64  \n",
      " 19  YearRemodAdd   1459 non-null   int64  \n",
      " 20  RoofStyle      1459 non-null   object \n",
      " 21  RoofMatl       1459 non-null   object \n",
      " 22  Exterior1st    1459 non-null   object \n",
      " 23  Exterior2nd    1459 non-null   object \n",
      " 24  ExterQual      1459 non-null   object \n",
      " 25  ExterCond      1459 non-null   object \n",
      " 26  Foundation     1459 non-null   object \n",
      " 27  Heating        1459 non-null   object \n",
      " 28  HeatingQC      1459 non-null   object \n",
      " 29  CentralAir     1459 non-null   object \n",
      " 30  Electrical     1459 non-null   object \n",
      " 31  1stFlrSF       1459 non-null   int64  \n",
      " 32  2ndFlrSF       1459 non-null   int64  \n",
      " 33  LowQualFinSF   1459 non-null   int64  \n",
      " 34  GrLivArea      1459 non-null   int64  \n",
      " 35  FullBath       1459 non-null   int64  \n",
      " 36  HalfBath       1459 non-null   int64  \n",
      " 37  BedroomAbvGr   1459 non-null   int64  \n",
      " 38  KitchenAbvGr   1459 non-null   int64  \n",
      " 39  KitchenQual    1459 non-null   object \n",
      " 40  TotRmsAbvGrd   1459 non-null   int64  \n",
      " 41  Functional     1459 non-null   object \n",
      " 42  PavedDrive     1459 non-null   object \n",
      " 43  WoodDeckSF     1459 non-null   int64  \n",
      " 44  OpenPorchSF    1459 non-null   int64  \n",
      " 45  EnclosedPorch  1459 non-null   int64  \n",
      " 46  3SsnPorch      1459 non-null   int64  \n",
      " 47  ScreenPorch    1459 non-null   int64  \n",
      " 48  Fence          1459 non-null   object \n",
      " 49  MiscFeature    1459 non-null   object \n",
      " 50  MiscVal        1459 non-null   int64  \n",
      " 51  MoSold         1459 non-null   int64  \n",
      " 52  YrSold         1459 non-null   object \n",
      " 53  SaleType       1459 non-null   object \n",
      " 54  SaleCondition  1459 non-null   object \n",
      " 55  Fireplaces     1459 non-null   int64  \n",
      " 56  FireplaceQu    1459 non-null   object \n",
      " 57  PoolArea       1459 non-null   int64  \n",
      " 58  PoolQC         1459 non-null   object \n",
      " 59  MasVnrType     1459 non-null   object \n",
      " 60  MasVnrArea     1459 non-null   float64\n",
      " 61  GarageType     1459 non-null   object \n",
      " 62  GarageFinish   1459 non-null   object \n",
      " 63  GarageQual     1459 non-null   object \n",
      " 64  GarageCond     1459 non-null   object \n",
      " 65  GarageYrBlt    1459 non-null   float64\n",
      " 66  GarageCars     1459 non-null   float64\n",
      " 67  GarageArea     1459 non-null   float64\n",
      " 68  BsmtQual       1459 non-null   object \n",
      " 69  BsmtCond       1459 non-null   object \n",
      " 70  BsmtExposure   1459 non-null   object \n",
      " 71  BsmtFinType1   1459 non-null   object \n",
      " 72  BsmtFinType2   1459 non-null   object \n",
      " 73  BsmtFinSF1     1459 non-null   float64\n",
      " 74  BsmtFinSF2     1459 non-null   float64\n",
      " 75  BsmtUnfSF      1459 non-null   float64\n",
      " 76  TotalBsmtSF    1459 non-null   float64\n",
      " 77  BsmtFullBath   1459 non-null   float64\n",
      " 78  BsmtHalfBath   1459 non-null   float64\n",
      " 79  test_set       1459 non-null   int64  \n",
      "dtypes: float64(11), int64(24), object(45)\n",
      "memory usage: 912.0+ KB\n",
      "None\n"
     ]
    }
   ],
   "source": [
    "df_new = pd.concat([remaining_df_new, fireplace_df_new, pool_df_new, masvnr_df_new, garage_df_new, bsmt_df_new], axis=1)\n",
    "df_new['test_set'] = 1\n",
    "print(df_new.info())"
   ]
  },
  {
   "cell_type": "markdown",
   "metadata": {},
   "source": [
    "# ML PREPROCESSING\n",
    "This chapter includes correlated feature removal, categorical data encoding, validation split, and target transformation."
   ]
  },
  {
   "cell_type": "code",
   "execution_count": 57,
   "metadata": {},
   "outputs": [
    {
     "name": "stdout",
     "output_type": "stream",
     "text": [
      "'TotalBsmtSF' dropped\n"
     ]
    }
   ],
   "source": [
    "# Check if 'TotalBsmtSF' is the sum of BsmtFinSF1, BsmtFinSF2, and BsmtUnfSF\n",
    "if (df.BsmtFinSF1 + df.BsmtFinSF2 + df.BsmtUnfSF == df.TotalBsmtSF).sum() == len(df):\n",
    "    df = df.drop(columns='TotalBsmtSF')\n",
    "if (df_new.BsmtFinSF1 + df_new.BsmtFinSF2 + df_new.BsmtUnfSF == df_new.TotalBsmtSF).sum() == len(df_new):\n",
    "    df_new = df_new.drop(columns='TotalBsmtSF')\n",
    "print(\"'TotalBsmtSF' dropped\")"
   ]
  },
  {
   "cell_type": "code",
   "execution_count": 58,
   "metadata": {},
   "outputs": [
    {
     "name": "stdout",
     "output_type": "stream",
     "text": [
      "Training features shape:\n",
      "(1460, 320)\n",
      "\n",
      "Test features shape:\n",
      "(1459, 320)\n"
     ]
    }
   ],
   "source": [
    "# Encode Categorical Features\n",
    "data = pd.concat([df, df_new], ignore_index=True)\n",
    "data = pd.get_dummies(data)\n",
    "\n",
    "# Set Training & Test Features\n",
    "X = data[data.test_set == 0].drop(columns=['test_set', 'SalePrice'])\n",
    "X_pred = data[data.test_set == 1].drop(columns=['test_set', 'SalePrice'])\n",
    "print('Training features shape:')\n",
    "print(X.shape)\n",
    "print('\\nTest features shape:')\n",
    "print(X_pred.shape)"
   ]
  },
  {
   "cell_type": "markdown",
   "metadata": {},
   "source": [
    "Check target distribution:"
   ]
  },
  {
   "cell_type": "code",
   "execution_count": 59,
   "metadata": {},
   "outputs": [
    {
     "data": {
      "text/plain": [
       "(array([  5.,  12.,  54., 184., 470., 400., 220.,  90.,  19.,   6.]),\n",
       " array([10.46024211, 10.7676652 , 11.07508829, 11.38251138, 11.68993448,\n",
       "        11.99735757, 12.30478066, 12.61220375, 12.91962684, 13.22704994,\n",
       "        13.53447303]),\n",
       " <BarContainer object of 10 artists>)"
      ]
     },
     "execution_count": 59,
     "metadata": {},
     "output_type": "execute_result"
    },
    {
     "data": {
      "image/png": "[encoded data removed]",
      "text/plain": [
       "<Figure size 432x288 with 2 Axes>"
      ]
     },
     "metadata": {
      "needs_background": "light"
     },
     "output_type": "display_data"
    }
   ],
   "source": [
    "y = df.SalePrice\n",
    "fig, (ax1, ax2) = plt.subplots(nrows=1, ncols=2)\n",
    "ax1.hist(y)\n",
    "ax2.hist(np.log(y))"
   ]
  },
  {
   "cell_type": "markdown",
   "metadata": {},
   "source": [
    "Target variable is normal when transformed into logarithmic therefore:"
   ]
  },
  {
   "cell_type": "code",
   "execution_count": 60,
   "metadata": {},
   "outputs": [
    {
     "name": "stdout",
     "output_type": "stream",
     "text": [
      "Target shape:\n",
      "(1460,)\n"
     ]
    }
   ],
   "source": [
    "# Set Target (Logarithmic Transformation)\n",
    "y = np.log(df.SalePrice)\n",
    "print('Target shape:')\n",
    "print(y.shape)"
   ]
  },
  {
   "cell_type": "code",
   "execution_count": 61,
   "metadata": {},
   "outputs": [],
   "source": [
    "# Validation Split (30%)\n",
    "from sklearn.model_selection import train_test_split\n",
    "X_train, X_test, y_train, y_test = train_test_split(X, y, test_size=0.3)"
   ]
  },
  {
   "cell_type": "markdown",
   "metadata": {},
   "source": [
    "# GRADIENT BOOSTING MODEL CHECK\n",
    "Before predicting the test set, I looked at the model's performance in a validation dataset. Notes to be considered:\n",
    "1. **Validation size = 30%** of training data\n",
    "2. Hyperparametric tuning is done on **'n_estimators'**\n",
    "3. Validation score uses **RMSLE**"
   ]
  },
  {
   "cell_type": "code",
   "execution_count": 62,
   "metadata": {},
   "outputs": [],
   "source": [
    "from sklearn.model_selection import GridSearchCV"
   ]
  },
  {
   "cell_type": "code",
   "execution_count": 63,
   "metadata": {},
   "outputs": [
    {
     "name": "stdout",
     "output_type": "stream",
     "text": [
      "GBR Best Params & Score:\n",
      "{'n_estimators': 900}\n",
      "0.88310095866912\n"
     ]
    }
   ],
   "source": [
    "from sklearn.ensemble import GradientBoostingRegressor\n",
    "param_gbr = {'n_estimators' : np.arange(500, 1100, 100)}\n",
    "gbr = GradientBoostingRegressor()\n",
    "gbr_cv = GridSearchCV(gbr, param_gbr, cv=3)\n",
    "gbr_cv.fit(X_train, y_train)\n",
    "print('GBR Best Params & Score:')\n",
    "print(gbr_cv.best_params_)\n",
    "print(gbr_cv.best_score_)"
   ]
  },
  {
   "cell_type": "code",
   "execution_count": 64,
   "metadata": {},
   "outputs": [
    {
     "name": "stdout",
     "output_type": "stream",
     "text": [
      "Validation RMSLE: 0.1231\n"
     ]
    }
   ],
   "source": [
    "from sklearn.metrics import mean_squared_log_error\n",
    "y_val = np.exp(gbr_cv.predict(X_test))\n",
    "y_true = np.exp(y_test)\n",
    "print('Validation RMSLE: {:.4f}'.format(np.sqrt(mean_squared_log_error(y_true, y_val))))"
   ]
  },
  {
   "cell_type": "markdown",
   "metadata": {},
   "source": [
    "# PREDICTIONS"
   ]
  },
  {
   "cell_type": "markdown",
   "metadata": {},
   "source": [
    "This chapter consists of model retraining (to the whole training set), test set prediction, and submission."
   ]
  },
  {
   "cell_type": "code",
   "execution_count": null,
   "metadata": {},
   "outputs": [],
   "source": [
    "# Re-train GB Regressor\n",
    "gbr_cv.fit(X, y)\n",
    "print('GBR Best Params & Score:')\n",
    "print(gbr_cv.best_params_)\n",
    "print(gbr_cv.best_score_)"
   ]
  },
  {
   "cell_type": "code",
   "execution_count": null,
   "metadata": {},
   "outputs": [],
   "source": [
    "y_pred = np.exp(gbr_cv.predict(X_pred))\n",
    "print('Predictions Shape:')\n",
    "print(y.shape)"
   ]
  },
  {
   "cell_type": "code",
   "execution_count": null,
   "metadata": {},
   "outputs": [],
   "source": [
    "submission = pd.read_csv('../input/house-prices-advanced-regression-techniques/sample_submission.csv', index_col=0)\n",
    "print(submission.head())\n",
    "submission.SalePrice = y_pred\n",
    "print('\\n')\n",
    "print(submission.head())"
   ]
  },
  {
   "cell_type": "code",
   "execution_count": null,
   "metadata": {},
   "outputs": [],
   "source": [
    "submission.to_csv('submission.csv')\n",
    "print('Result saved successfully!')"
   ]
  },
  {
   "cell_type": "markdown",
   "metadata": {},
   "source": [
    "**NOTES:**\n",
    "1. This notebook is **based on my limited knowledge**.\n",
    "2. I have tried several algorithm including random forest and xgb regressor. So far the gradient boosting regressor works best.\n",
    "\n",
    "Thank you!"
   ]
  }
 ],
 "metadata": {
  "kernelspec": {
   "display_name": "Python 3",
   "language": "python",
   "name": "python3"
  },
  "language_info": {
   "codemirror_mode": {
    "name": "ipython",
    "version": 3
   },
   "file_extension": ".py",
   "mimetype": "text/x-python",
   "name": "python",
   "nbconvert_exporter": "python",
   "pygments_lexer": "ipython3",
   "version": "3.8.7"
  }
 },
 "nbformat": 4,
 "nbformat_minor": 4
}
